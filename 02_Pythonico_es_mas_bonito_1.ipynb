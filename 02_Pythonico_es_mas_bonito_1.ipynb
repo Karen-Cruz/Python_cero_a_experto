{
 "cells": [
  {
   "cell_type": "markdown",
   "metadata": {},
   "source": [
    "# Python de cero a experto\n",
    "**Autor:** Luis Miguel de la Cruz Salas\n",
    "\n",
    "<a href=\"https://github.com/luiggix/Python_cero_a_experto\">Python de cero a experto</a> by Luis M. de la Cruz Salas is licensed under <a href=\"https://creativecommons.org/licenses/by-nc-nd/4.0?ref=chooser-v1\">Attribution-NonCommercial-NoDerivatives 4.0 International</a>\n",
    "\n",
    "\n",
    "**Objetivos.**\n",
    "..."
   ]
  },
  {
   "cell_type": "markdown",
   "metadata": {},
   "source": [
    "## El huevo cocido perfecto\n",
    "\n",
    "¿Cuál es el tiempo ideal para cocinar un huevo?\n",
    "\n",
    "<img src=\"./Figuras/Huevo_cocido.jpg\"  style=\"width: 300px;\"/>\n",
    "\n",
    "\n",
    "Para lograr un **huevo cocido** suave, la clara debe haberse calentado el tiempo suficiente para coagular a una temperatura superior a 63 $^o$C, pero la yema no debe calentarse por encima de 70 $^o$C.\n",
    "\n",
    "Para lograr un **huevo duro**, el centro de la yema debe de alcanzar los 70 $^o$C.\n",
    "\n",
    "### Fórmula para calcular el tiempo de cocción.\n",
    "La siguiente fórmula expresa el tiempo $t$, en segundos, que le toma a la yema alcanzar la temperatura $T_y$, en grados Celsius.\n",
    "\n",
    "$$t = \\dfrac{M^{2/3} c \\rho^{1/3}}{K \\pi^2 (4\\pi/3)^{2/3}} \\ln \\left[ 0.76 \\dfrac{T_o - T_w}{T_y - T_w}\\right]$$\n",
    "\n",
    "donde las propiedades son:\n",
    "\n",
    "- $M$ masa; \n",
    "- $\\rho$ densidad; \n",
    "- $c$ capacidad calorífica específica; \n",
    "- $K$ conductividad térmica; \n",
    "- $T_w$ es la temperatura de ebullición del agua;\n",
    "- $T_o$ es la temperatura original del huevo antes de meterlo al agua;\n",
    "- $T_y$ es la temperatura que debe alcanzar la yema."
   ]
  },
  {
   "cell_type": "markdown",
   "metadata": {},
   "source": [
    "### Ejercicio 0.\n",
    "Calcular el tiempo de cocción necesario para un huevo pequeño. \n",
    "La masa de un huevo grande es 67 g.\n",
    "\n",
    "**Datos**:\n",
    "- $M$ = 47 g \n",
    "- $\\rho$ = 1.038 g / cm$^3$\n",
    "- $c$ = 3.7 J / g K\n",
    "- $K$ = 5.4 $\\times 10^{-3}$ W / cm K\n",
    "- $T_w$ = 100 $^o$C\n",
    "- $T_y$ = 70 $^o$C\n",
    "\n",
    "Temperatura original del huevo:\n",
    "- Temperatura ambiente: $T_o$ = 20 $^o$C.\n",
    "- Temperatura en el refrigerador: $T_o$ = 4 $^o$C."
   ]
  },
  {
   "cell_type": "markdown",
   "metadata": {},
   "source": [
    "Primera parte de la fórmula: \n",
    "\n",
    "$M^{2/3} c \\rho^{1/3}$"
   ]
  },
  {
   "cell_type": "code",
   "execution_count": 3,
   "metadata": {},
   "outputs": [
    {
     "name": "stdout",
     "output_type": "stream",
     "text": [
      "<class 'int'> <class 'float'> <class 'float'>\n",
      "93982342685440 140263444418768 140263393907664\n",
      "47 1.038 3.7\n"
     ]
    }
   ],
   "source": [
    "# Definir los datos iniciales\n",
    "M   = 47    # Un entero\n",
    "rho = 1.038 # Un flotante\n",
    "c   = 3.7   # Otro flotante\n",
    "\n",
    "print(type(M), type(rho), type(c))\n",
    "print(id(M), id(rho), id(c))\n",
    "print(M, rho, c)"
   ]
  },
  {
   "cell_type": "code",
   "execution_count": 4,
   "metadata": {},
   "outputs": [
    {
     "data": {
      "text/plain": [
       "48.790216719661984"
      ]
     },
     "execution_count": 4,
     "metadata": {},
     "output_type": "execute_result"
    }
   ],
   "source": [
    "num1 = M**(2/3) * c * rho**(1/3)\n",
    "num1"
   ]
  },
  {
   "cell_type": "markdown",
   "metadata": {},
   "source": [
    "**Revisar**: <a href=\"./T01_Etiquetas_y_Palabras_Reservadas.ipynb\">Etiquetas y palabras reservadas </a>"
   ]
  },
  {
   "cell_type": "markdown",
   "metadata": {},
   "source": [
    "Podríamos usar caracteres matemáticos:"
   ]
  },
  {
   "cell_type": "code",
   "execution_count": 9,
   "metadata": {},
   "outputs": [
    {
     "name": "stdout",
     "output_type": "stream",
     "text": [
      "𝜌\n"
     ]
    }
   ],
   "source": [
    "print(chr(0x1D70C))"
   ]
  },
  {
   "cell_type": "code",
   "execution_count": 11,
   "metadata": {},
   "outputs": [],
   "source": [
    "𝜌 = 1.038"
   ]
  },
  {
   "cell_type": "code",
   "execution_count": 12,
   "metadata": {},
   "outputs": [
    {
     "data": {
      "text/plain": [
       "48.790216719661984"
      ]
     },
     "execution_count": 12,
     "metadata": {},
     "output_type": "execute_result"
    }
   ],
   "source": [
    "M**(2/3) * c * 𝜌**(1/3)"
   ]
  },
  {
   "cell_type": "markdown",
   "metadata": {},
   "source": [
    "**Revisar**: <a href=\"./T02_Expr_Decla_Tipos_Oper.ipynb\">Expresiones, Declaraciones, Tipos y Operadores</a>"
   ]
  },
  {
   "cell_type": "code",
   "execution_count": null,
   "metadata": {},
   "outputs": [],
   "source": [
    "# Denominador, necesitamos el valor de Pi.\n",
    "import math\n",
    "# Se puede importar la biblioteca math y ponerle otro nombre \n",
    "#import math as m \n",
    "# Se puede importat solo una función de la biblioteca y ponerle un nombre\n",
    "#from math import sinh as senoHiperbolico"
   ]
  },
  {
   "cell_type": "code",
   "execution_count": null,
   "metadata": {},
   "outputs": [],
   "source": [
    "den1 = K * math.pi**2 * (4 * math.pi / 3)**(2/3)"
   ]
  },
  {
   "cell_type": "code",
   "execution_count": null,
   "metadata": {},
   "outputs": [],
   "source": [
    "print(den1)"
   ]
  },
  {
   "cell_type": "markdown",
   "metadata": {},
   "source": [
    "### Ejercicio 1:  \n",
    "Calcular el tiempo de cocción óptimo para obtener un huevo duro, el cual acabamos de sacar del refrigerador."
   ]
  },
  {
   "cell_type": "code",
   "execution_count": null,
   "metadata": {},
   "outputs": [],
   "source": [
    "To = 4 # [C]\n",
    "Tw = 100 # [C]\n",
    "Ty = 70 # [C]\n",
    "T = (To - Tw) / (Ty - Tw)"
   ]
  },
  {
   "cell_type": "code",
   "execution_count": null,
   "metadata": {},
   "outputs": [],
   "source": [
    "t1 = (num1 /den1) * math.log(0.76 * T)\n",
    "print('El tiempo de cocción óptimo es:', t1, '[s]')"
   ]
  },
  {
   "cell_type": "code",
   "execution_count": null,
   "metadata": {},
   "outputs": [],
   "source": [
    "t2 = (num1 /den1) * math.log(0.76 * T)\n",
    "print('El tiempo de cocción óptimo es:', t2, '[s]')"
   ]
  },
  {
   "cell_type": "code",
   "execution_count": null,
   "metadata": {},
   "outputs": [],
   "source": [
    "print(math.fabs(t2 - t1))"
   ]
  },
  {
   "cell_type": "markdown",
   "metadata": {},
   "source": [
    "### Ejercicio 2:\n",
    "Calcular el tiempo del ejercicio 1 en minutos"
   ]
  },
  {
   "cell_type": "code",
   "execution_count": null,
   "metadata": {},
   "outputs": [],
   "source": [
    "print(t1 / 60)"
   ]
  },
  {
   "cell_type": "markdown",
   "metadata": {},
   "source": [
    "### Ejercicio 3:\n",
    "¿Cómo cambia el tiempo para un huevo tomado del refrigerador contra otro que estaba en la mesa de la cocina? "
   ]
  },
  {
   "cell_type": "markdown",
   "metadata": {},
   "source": [
    "<a href=\"./T03_Estructura_de_Datos.ipynb\">Estructura de datos</a>"
   ]
  },
  {
   "cell_type": "markdown",
   "metadata": {},
   "source": [
    "<a href=\"./T04_Control_de_flujo.ipynb\">Control de flujo</a>"
   ]
  },
  {
   "cell_type": "markdown",
   "metadata": {},
   "source": [
    "### Ejercicio 4:\n",
    "Hacer una lista de tiempos para temperaturas del huevo, desde la que se tiene en el refrigerador hasta temperatura ambiente, en pasos de 1$^o$C."
   ]
  },
  {
   "cell_type": "code",
   "execution_count": null,
   "metadata": {},
   "outputs": [],
   "source": [
    "Ts = []\n",
    "ts = []\n",
    "for i in range(4,21):\n",
    "    Ts.append(i)\n",
    "    t = (num1 /den1) * math.log(0.76 * (i - Tw) / (Ty - Tw))\n",
    "    ts.append(t/60)\n",
    "print(Ts)\n",
    "print(ts)"
   ]
  },
  {
   "cell_type": "markdown",
   "metadata": {},
   "source": [
    "### Ejercicio 5:\n",
    "De la lista creada anteriormente determinar que temperatura debería tener el huevo originalmente para que el tiempo de cocción sea de 5 minutos."
   ]
  },
  {
   "cell_type": "code",
   "execution_count": null,
   "metadata": {},
   "outputs": [],
   "source": [
    "# Encontrar el intervalo donde cae el valor de 5 minutos\n",
    "Ip1 = 0 # índice donde se pasa de 5 a menos de 5\n",
    "for i,v in enumerate(ts):\n",
    "    if v < 5.0:\n",
    "        Ip1 = i\n",
    "        print('Tiempos [s]: ts[{}] : {:2.5f}; ts[{}] : {:2.5f}'.format(i-1,ts[i-1],i,v))\n",
    "        print('Temps   [C]: Ts[{}] : {:2.5f}; Ts[{}] : {:2.5f}'.format(i-1,Ts[i-1],i,Ts[i]))\n",
    "        break\n",
    "\n",
    "# Calcular la pendiente:\n",
    "m = (Ts[Ip1] - Ts[Ip1-1]) / (ts[Ip1] - ts[Ip1-1])\n",
    "# Calcular la ordenada al origen:\n",
    "b = Ts[Ip1] - m * ts[Ip1]\n",
    "print('Pendiente : {:2.5f}'.format(m))\n",
    "print('Ordenada  : {:2.5f}'.format(b))\n",
    "\n",
    "# Calcular la temperatura para que la cocción sean 5 minutos\n",
    "tx = 5.0 # 5 minutos en segundos\n",
    "Tx = m * tx + b\n",
    "\n",
    "print('Temperatura del huevo para una cocción de 5 [m] : {} [C]'.format(Tx))"
   ]
  },
  {
   "cell_type": "code",
   "execution_count": null,
   "metadata": {},
   "outputs": [],
   "source": [
    "# Grafica de apoyo\n",
    "import numpy as np\n",
    "import matplotlib.pyplot as plt\n",
    "%matplotlib inline\n",
    "x = np.linspace(0,6,10)\n",
    "plt.plot(x,m*x+b)\n",
    "plt.plot(5,m*5+b,'o')"
   ]
  },
  {
   "cell_type": "markdown",
   "metadata": {},
   "source": [
    "<a href=\"./T05_Entrada_Salida_Archivos.ipynb\">Entrada, Salida y Archivos</a>"
   ]
  },
  {
   "cell_type": "markdown",
   "metadata": {},
   "source": [
    "### Ejercicio 6:\n",
    "Escribir un programa que pregunte al usuario el peso del huevo y crear una lista de temperaturas y una la lista de tiempos de cocción para esas temperaturas; crear un archivo con el nombre \"huevo_m_XX\", donde XX indica el peso del huevo; escribir en el archivo las listas de temperaturas y tiempos."
   ]
  },
  {
   "cell_type": "code",
   "execution_count": null,
   "metadata": {},
   "outputs": [],
   "source": [
    "peso_huevo = input('Dame el peso del huevo:')\n",
    "archivo = open('huevo_m_{}'.format(peso_huevo), 'w')\n",
    "\n",
    "M = float(peso_huevo)\n",
    "num1 = M**(2/3) * c * rho**(1/3)\n",
    "den1 = K * math.pi**2 * (4 * math.pi / 3)**(2/3)\n",
    "\n",
    "for i in range(4,21):\n",
    "    t = (num1 /den1) * math.log(0.76 * (i - Tw) / (Ty - Tw))\n",
    "    archivo.write('{:>3.8f}\\t{:>3.8f}\\n'.format(i,t/60))\n",
    "    \n",
    "archivo.close()"
   ]
  },
  {
   "cell_type": "markdown",
   "metadata": {},
   "source": [
    "<a href=\"./T06_Funciones_y_Documentacion.ipynb\">Funciones y documentación</a>"
   ]
  },
  {
   "cell_type": "markdown",
   "metadata": {},
   "source": [
    "<a href=\"./T07_Excepciones.ipynb\">Excepciones</a>"
   ]
  },
  {
   "cell_type": "markdown",
   "metadata": {},
   "source": [
    "### Proyecto 1:\n",
    "Organizar los cálculos en funciones que reciban varios tipos de argumentos y que regresen distintos tipos de objetos. La idea es que el programa solicite al usuario la temperatura inicial ($T_o$), el peso del huevo ($M$); El programa debe verificar que $T_o \\in [4,20]$ y $M \\in [47, 67]$ y que los valores introducidos sean compatibles para realizar los cálculos. Los errores deberán ser manejados con excepciones. Documente sus funciones para que el usuario sepa que es lo que hacen."
   ]
  },
  {
   "cell_type": "markdown",
   "metadata": {},
   "source": [
    "<a href=\"./T08_IterablesMapFilter.ipynb\">Iterables, Mapeo y Filtrado</a>"
   ]
  },
  {
   "cell_type": "markdown",
   "metadata": {},
   "source": [
    "<a href=\"T09_LambdaExpressions_Reduce.ipynb\">Lambda Expressions y Reduce </a>"
   ]
  },
  {
   "cell_type": "markdown",
   "metadata": {},
   "source": [
    "<a href=\"T10_Comprehensions.ipynb\">Comprehensions</a>\n"
   ]
  },
  {
   "cell_type": "markdown",
   "metadata": {},
   "source": [
    "<a href=\"T11_IteradoresGeneradores.ipynb\">Iteradores y generadores</a>"
   ]
  },
  {
   "cell_type": "markdown",
   "metadata": {},
   "source": [
    "<a href=\"T12_Decoradores.ipynb\">Decoradores</a>"
   ]
  },
  {
   "cell_type": "markdown",
   "metadata": {},
   "source": [
    "<a href=\"T13_BibliotecaEstandar.ipynb\">Biblioteca estándar</a>"
   ]
  },
  {
   "cell_type": "markdown",
   "metadata": {},
   "source": [
    "### Proyecto 2:\n",
    "Re-programe el proyecto 1 usando una forma más *Pythónica*, dando la posibilidad de usar grados Kelvin y Farenheit. \n",
    "Bonus: Haga uso de <a href=\"./BONUS_IPYWidgets.ipynb\">IPYWidgets</a> para un mejor manejo del programa."
   ]
  }
 ],
 "metadata": {
  "kernelspec": {
   "display_name": "Python 3",
   "language": "python",
   "name": "python3"
  },
  "language_info": {
   "codemirror_mode": {
    "name": "ipython",
    "version": 3
   },
   "file_extension": ".py",
   "mimetype": "text/x-python",
   "name": "python",
   "nbconvert_exporter": "python",
   "pygments_lexer": "ipython3",
   "version": "3.8.5"
  }
 },
 "nbformat": 4,
 "nbformat_minor": 4
}
