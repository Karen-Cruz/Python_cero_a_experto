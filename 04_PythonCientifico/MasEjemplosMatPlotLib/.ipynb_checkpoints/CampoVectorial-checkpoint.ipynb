{
 "cells": [
  {
   "cell_type": "code",
   "execution_count": null,
   "metadata": {},
   "outputs": [],
   "source": [
    "%matplotlib inline\n",
    "import numpy as np\n",
    "import matplotlib.pyplot as plt\n",
    "\n",
    "lx, ly = 1, 1\n",
    "nx, ny = 11, 11\n",
    "\n",
    "xg, yg =np.meshgrid(np.linspace(0,lx,nx),np.linspace(0,ly,ny))\n",
    "A = 1.0\n",
    "alpha = 2.0\n",
    "u = -A * np.cos(np.pi * alpha * yg) * np.sin(np.pi * alpha * xg)\n",
    "v =  A * np.sin(np.pi * alpha * yg) * np.cos(np.pi * alpha * xg)\n",
    "\n",
    "fig = plt.figure()\n",
    "ax = fig.add_subplot(121)\n",
    "\n",
    "ax.set_aspect('equal')\n",
    "Q = ax.quiver(xg, yg, u, v, units='width')\n",
    "ax.quiverkey(Q, 0.85, 0.9, 1, r'$2 \\frac{m}{s}$', labelpos='E',\n",
    "              coordinates='figure')\n",
    "ax.set_title('Campo vectorial $\\\\vec{u}$')\n",
    "ax.set_xlabel('$x$')\n",
    "ax.set_ylabel('$y$')\n",
    "\n",
    "ay = fig.add_subplot(122)\n",
    "mapa_colores = 2 * np.hypot(u, v)\n",
    "ay.set_aspect('equal')\n",
    "ay.streamplot(xg, yg, u, v, color=mapa_colores, linewidth=0.5, \n",
    "              cmap=plt.cm.hot_r, density=1, arrowstyle='->', \n",
    "              arrowsize=1.0)\n",
    "plt.title('Streamlines')\n",
    "plt.xlabel('$x$')\n",
    "plt.ylabel('$y$')\n",
    "plt.tight_layout()\n",
    "#plt.savefig('Vectorial.pdf')\n",
    "plt.show()"
   ]
  },
  {
   "cell_type": "code",
   "execution_count": null,
   "metadata": {},
   "outputs": [],
   "source": []
  }
 ],
 "metadata": {
  "kernelspec": {
   "display_name": "Python 3",
   "language": "python",
   "name": "python3"
  },
  "language_info": {
   "codemirror_mode": {
    "name": "ipython",
    "version": 3
   },
   "file_extension": ".py",
   "mimetype": "text/x-python",
   "name": "python",
   "nbconvert_exporter": "python",
   "pygments_lexer": "ipython3",
   "version": "3.7.3"
  }
 },
 "nbformat": 4,
 "nbformat_minor": 2
}
