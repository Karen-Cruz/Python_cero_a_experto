{
 "cells": [
  {
   "cell_type": "markdown",
   "metadata": {},
   "source": [
    "# Python de cero a experto\n",
    "**Autor:** Luis Miguel de la Cruz Salas\n",
    "\n",
    "<a href=\"https://github.com/luiggix/Python_cero_a_experto\">Python de cero a experto</a> by Luis M. de la Cruz Salas is licensed under <a href=\"https://creativecommons.org/licenses/by-nc-nd/4.0?ref=chooser-v1\">Attribution-NonCommercial-NoDerivatives 4.0 International</a>\n",
    "\n",
    "\n",
    "**Objetivos**. Revisar los conceptos de etiquetas, palabras reservadas, expresiones, declaraciones, tipos y operadores, estructura de datos, control de flujo, entrada y salida estándar."
   ]
  },
  {
   "cell_type": "markdown",
   "metadata": {},
   "source": [
    "## El huevo cocido perfecto\n",
    "\n",
    "¿Cuál es el tiempo ideal para cocinar un huevo?\n",
    "\n",
    "<img src=\"./Figuras/Huevo_cocido.jpg\"  style=\"width: 300px;\"/>\n",
    "\n",
    "\n",
    "Para lograr un **huevo cocido** suave, la clara debe haberse calentado el tiempo suficiente para coagular a una temperatura superior a 63 $^o$C, pero la yema no debe calentarse por encima de 70 $^o$C.\n",
    "\n",
    "Para lograr un **huevo duro**, el centro de la yema debe de alcanzar los 70 $^o$C.\n",
    "\n",
    "### Fórmula para calcular el tiempo de cocción.\n",
    "La siguiente fórmula expresa el tiempo $t$, en segundos, que le toma a la yema alcanzar la temperatura $T_y$, en grados Celsius.\n",
    "\n",
    "$$t = \\dfrac{M^{2/3} c \\rho^{1/3}}{K \\pi^2 (4\\pi/3)^{2/3}} \\ln \\left[ 0.76 \\dfrac{T_o - T_w}{T_y - T_w}\\right]$$\n",
    "\n",
    "donde las propiedades son:\n",
    "\n",
    "- $M$ masa; \n",
    "- $\\rho$ densidad; \n",
    "- $c$ capacidad calorífica específica; \n",
    "- $K$ conductividad térmica; \n",
    "- $T_w$ es la temperatura de ebullición del agua;\n",
    "- $T_o$ es la temperatura original del huevo antes de meterlo al agua;\n",
    "- $T_y$ es la temperatura que debe alcanzar la yema."
   ]
  },
  {
   "cell_type": "markdown",
   "metadata": {},
   "source": [
    "### Ejercicio 1.\n",
    "Calcular el tiempo de cocción necesario para un huevo duro pequeño de 47 g \n",
    "(la masa de un huevo grande es 67 g), para cuando la temperatura inicial \n",
    "del huevo es:\n",
    "1. Temperatura ambiente: $T_o$ = 20 $^o$C.\n",
    "2. Temperatura en el refrigerador: $T_o$ = 4 $^o$C.\n",
    "\n",
    "**Datos**:\n",
    "- $M$ = 47 g \n",
    "- $\\rho$ = 1.038 g / cm$^3$\n",
    "- $c$ = 3.7 J / g K\n",
    "- $K$ = 5.4 $\\times 10^{-3}$ W / cm K\n",
    "- $T_w$ = 100 $^o$C\n",
    "- $T_y$ = 70 $^o$C"
   ]
  },
  {
   "cell_type": "markdown",
   "metadata": {},
   "source": [
    "**<font color=\"#126534\">SOLUCIÓN.</font>**<br>\n",
    "Primera parte de la fórmula: $M^{2/3} c \\rho^{1/3}$"
   ]
  },
  {
   "cell_type": "code",
   "execution_count": 1,
   "metadata": {},
   "outputs": [
    {
     "name": "stdout",
     "output_type": "stream",
     "text": [
      "<class 'int'> <class 'float'> <class 'float'>\n",
      "94516464145152 140451544387792 140451544608528\n",
      "47 1.038 3.7\n"
     ]
    }
   ],
   "source": [
    "# Definir los datos iniciales\n",
    "M   = 47    # Un entero\n",
    "rho = 1.038 # Un flotante\n",
    "c   = 3.7   # Otro flotante\n",
    "\n",
    "print(type(M), type(rho), type(c))\n",
    "print(id(M), id(rho), id(c))\n",
    "print(M, rho, c)"
   ]
  },
  {
   "cell_type": "code",
   "execution_count": 2,
   "metadata": {},
   "outputs": [
    {
     "data": {
      "text/plain": [
       "48.790216719661984"
      ]
     },
     "execution_count": 2,
     "metadata": {},
     "output_type": "execute_result"
    }
   ],
   "source": [
    "numerador = M**(2/3) * c * rho**(1/3)\n",
    "numerador"
   ]
  },
  {
   "cell_type": "markdown",
   "metadata": {},
   "source": [
    "**Revisar**: <a href=\"./T01_Etiquetas_y_Palabras_Reservadas.ipynb\">Etiquetas y palabras reservadas </a>"
   ]
  },
  {
   "cell_type": "markdown",
   "metadata": {},
   "source": [
    "Podríamos usar caracteres matemáticos:"
   ]
  },
  {
   "cell_type": "code",
   "execution_count": 3,
   "metadata": {},
   "outputs": [
    {
     "name": "stdout",
     "output_type": "stream",
     "text": [
      "𝜌\n"
     ]
    }
   ],
   "source": [
    "print(chr(0x1D70C))"
   ]
  },
  {
   "cell_type": "code",
   "execution_count": 4,
   "metadata": {},
   "outputs": [],
   "source": [
    "𝜌 = 1.038"
   ]
  },
  {
   "cell_type": "code",
   "execution_count": 5,
   "metadata": {},
   "outputs": [
    {
     "data": {
      "text/plain": [
       "48.790216719661984"
      ]
     },
     "execution_count": 5,
     "metadata": {},
     "output_type": "execute_result"
    }
   ],
   "source": [
    "M**(2/3) * c * 𝜌**(1/3)"
   ]
  },
  {
   "cell_type": "markdown",
   "metadata": {},
   "source": [
    "**Revisar**: <a href=\"./T02_Expr_Decla_Tipos_Oper.ipynb\">Expresiones, Declaraciones, Tipos y Operadores</a>"
   ]
  },
  {
   "cell_type": "markdown",
   "metadata": {},
   "source": [
    "Segunda parte de la fórmula: $K \\pi^2 (4\\pi/3)^{2/3}$"
   ]
  },
  {
   "cell_type": "code",
   "execution_count": 6,
   "metadata": {},
   "outputs": [],
   "source": [
    "# Denominador, necesitamos el valor de Pi.\n",
    "import math\n",
    "# Se puede importar la biblioteca math y ponerle otro nombre \n",
    "#import math as m \n",
    "# Se puede importat solo una función de la biblioteca y ponerle un nombre\n",
    "#from math import sinh as senoHiperbolico"
   ]
  },
  {
   "cell_type": "code",
   "execution_count": 7,
   "metadata": {},
   "outputs": [],
   "source": [
    "K = 5.4e-3\n",
    "denominador = K * math.pi**2 * (4 * math.pi / 3)**(2/3)"
   ]
  },
  {
   "cell_type": "code",
   "execution_count": 8,
   "metadata": {},
   "outputs": [
    {
     "name": "stdout",
     "output_type": "stream",
     "text": [
      "0.13849026450902358\n"
     ]
    }
   ],
   "source": [
    "print(denominador)"
   ]
  },
  {
   "cell_type": "code",
   "execution_count": 9,
   "metadata": {},
   "outputs": [
    {
     "data": {
      "text/plain": [
       "'π'"
      ]
     },
     "execution_count": 9,
     "metadata": {},
     "output_type": "execute_result"
    }
   ],
   "source": [
    "chr(0x03C0)"
   ]
  },
  {
   "cell_type": "code",
   "execution_count": 10,
   "metadata": {},
   "outputs": [
    {
     "data": {
      "text/plain": [
       "0.13849026450902358"
      ]
     },
     "execution_count": 10,
     "metadata": {},
     "output_type": "execute_result"
    }
   ],
   "source": [
    "π = math.pi\n",
    "K * π**2 * (4 * π / 3)**(2/3)"
   ]
  },
  {
   "cell_type": "markdown",
   "metadata": {},
   "source": [
    "Tercera parte de la fórmula: $\\ln \\left[ 0.76 \\dfrac{T_o - T_w}{T_y - T_w}\\right]$\n",
    "\n",
    "**Caso 1.**<br>\n",
    "$T_o$ = 20 $^o$C."
   ]
  },
  {
   "cell_type": "code",
   "execution_count": 11,
   "metadata": {},
   "outputs": [],
   "source": [
    "To = 20  # Temp. ambiente\n",
    "Tw = 100\n",
    "Ty = 70"
   ]
  },
  {
   "cell_type": "code",
   "execution_count": 12,
   "metadata": {},
   "outputs": [],
   "source": [
    "logaritmo = math.log(0.76 * (To - Tw) / (Ty - Tw))"
   ]
  },
  {
   "cell_type": "markdown",
   "metadata": {},
   "source": [
    "Fórmula completa:"
   ]
  },
  {
   "cell_type": "code",
   "execution_count": 13,
   "metadata": {},
   "outputs": [
    {
     "name": "stdout",
     "output_type": "stream",
     "text": [
      "248.86253747844736\n"
     ]
    }
   ],
   "source": [
    "t = numerador / denominador * logaritmo\n",
    "print(t)"
   ]
  },
  {
   "cell_type": "markdown",
   "metadata": {},
   "source": [
    "**Caso 2.**<br>\n",
    "$T_o$ = 4 $^o$C."
   ]
  },
  {
   "cell_type": "code",
   "execution_count": 14,
   "metadata": {},
   "outputs": [],
   "source": [
    "To = 4  # Temp. ambiente\n",
    "Tw = 100\n",
    "Ty = 70"
   ]
  },
  {
   "cell_type": "code",
   "execution_count": 15,
   "metadata": {},
   "outputs": [],
   "source": [
    "logaritmo = math.log(0.76 * (To - Tw) / (Ty - Tw))"
   ]
  },
  {
   "cell_type": "code",
   "execution_count": 16,
   "metadata": {},
   "outputs": [
    {
     "name": "stdout",
     "output_type": "stream",
     "text": [
      "313.09454902221637\n"
     ]
    }
   ],
   "source": [
    "t = numerador / denominador * logaritmo\n",
    "print(t)"
   ]
  },
  {
   "cell_type": "markdown",
   "metadata": {},
   "source": [
    "### Ejercicio 2.\n",
    "Imprimir el tiempo de los casos del ejercicio 1 en el siguiente formato usando *cadenas*:<br>\n",
    " `El tiempo de cocción óptimo es: 313.1 [s] (5.2 [m])`"
   ]
  },
  {
   "cell_type": "code",
   "execution_count": 17,
   "metadata": {},
   "outputs": [],
   "source": [
    "To = 4\n",
    "logaritmo = math.log(0.76 * (To - Tw) / (Ty - Tw))\n",
    "t1 = numerador /denominador * logaritmo\n",
    "\n",
    "To = 20\n",
    "logaritmo = math.log(0.76 * (To - Tw) / (Ty - Tw))\n",
    "t2 = numerador /denominador * logaritmo"
   ]
  },
  {
   "cell_type": "code",
   "execution_count": 18,
   "metadata": {},
   "outputs": [
    {
     "name": "stdout",
     "output_type": "stream",
     "text": [
      "El tiempo de cocción óptimo es: 313.09454902221637  [s] ( 5.218242483703606  [m])\n",
      "El tiempo de cocción óptimo es: 248.86253747844736  [s] ( 4.147708957974123  [m])\n"
     ]
    }
   ],
   "source": [
    "# Solución 1:\n",
    "print('El tiempo de cocción óptimo es:', t1,' [s] (', t1/60, ' [m])')\n",
    "print('El tiempo de cocción óptimo es:', t2,' [s] (', t2/60, ' [m])')"
   ]
  },
  {
   "cell_type": "code",
   "execution_count": 19,
   "metadata": {},
   "outputs": [
    {
     "name": "stdout",
     "output_type": "stream",
     "text": [
      "El tiempo de cocción óptimo es: 313.09454902221637 [s] (313.09454902221637 [m])\n",
      "El tiempo de cocción óptimo es: 248.86253747844736 [s] (248.86253747844736 [m])\n"
     ]
    }
   ],
   "source": [
    "# Solución 2:\n",
    "cadena1 = 'El tiempo de cocción óptimo es: '\n",
    "cadena2 = str(t1) + ' [s] (' + str(t1) + ' [m])'\n",
    "cadena3 = str(t2) + ' [s] (' + str(t2) + ' [m])'\n",
    "print(cadena1 + cadena2)\n",
    "print(cadena1 + cadena3)"
   ]
  },
  {
   "cell_type": "code",
   "execution_count": 20,
   "metadata": {},
   "outputs": [
    {
     "name": "stdout",
     "output_type": "stream",
     "text": [
      "El tiempo de cocción óptimo es: 313.09454902221637 [s] ( 5.218242483703606 [m])\n",
      "El tiempo de cocción óptimo es: 248.86253747844736 [s] ( 4.147708957974123 [m])\n"
     ]
    }
   ],
   "source": [
    "# Solución 3:\n",
    "cadena2 = '{} [s] ( {} [m])'.format(t1, t1/60)\n",
    "cadena3 = '{} [s] ( {} [m])'.format(t2, t2/60)\n",
    "print(cadena1 + cadena2)\n",
    "print(cadena1 + cadena3)"
   ]
  },
  {
   "cell_type": "code",
   "execution_count": 21,
   "metadata": {},
   "outputs": [
    {
     "name": "stdout",
     "output_type": "stream",
     "text": [
      "El tiempo de cocción óptimo es: 313.1 [s] ( 5.2 [m])\n",
      "El tiempo de cocción óptimo es: 248.9 [s] ( 4.1 [m])\n"
     ]
    }
   ],
   "source": [
    "# Solución 4:\n",
    "cadena2 = '{:.1f} [s] ( {:.1f} [m])'.format(t1, t1/60)\n",
    "cadena3 = '{:.1f} [s] ( {:.1f} [m])'.format(t2, t2/60)\n",
    "print(cadena1 + cadena2)\n",
    "print(cadena1 + cadena3)"
   ]
  },
  {
   "cell_type": "code",
   "execution_count": 22,
   "metadata": {},
   "outputs": [
    {
     "name": "stdout",
     "output_type": "stream",
     "text": [
      "El tiempo de cocción óptimo es: 313.1 [s] (5.2 [m])\n",
      "El tiempo de cocción óptimo es: 248.9 [s] (4.1 [m])\n"
     ]
    }
   ],
   "source": [
    "# Solución 5:\n",
    "print('El tiempo de cocción óptimo es: {:0.1f} [s] ({:0.1f} [m])'.format(t1, t1/60))\n",
    "print('El tiempo de cocción óptimo es: {:0.1f} [s] ({:0.1f} [m])'.format(t2, t2/60))"
   ]
  },
  {
   "cell_type": "markdown",
   "metadata": {},
   "source": [
    "### Ejercicio 3.\n",
    "Hacer una lista de tiempos de cocción para temperaturas de huevos, desde la que se tiene en el refrigerador hasta temperatura ambiente, en pasos de 1$^o$C.\n",
    "1. Imprimir dos columnas: temperatura y tiempo.\n",
    "2. Imprimir los tiempos en el formato: min:seg (por ejemplo 5:30).\n",
    "3. Imprimir un encabezado para identificar las columnas.\n",
    "4. Realizar lo mismo que en 1, 2 y 3, pero con dos listas `list`: una para las temperaturas y otra para los tiempos.\n",
    "5. Realizar lo mismo que en 1, 2 y 3, pero con un diccionario `dict`."
   ]
  },
  {
   "cell_type": "markdown",
   "metadata": {},
   "source": [
    "<a href=\"./T03_Estructura_de_Datos.ipynb\">Estructura de datos</a>"
   ]
  },
  {
   "cell_type": "markdown",
   "metadata": {},
   "source": [
    "<a href=\"./T04_Control_de_flujo.ipynb\">Control de flujo</a>"
   ]
  },
  {
   "cell_type": "markdown",
   "metadata": {},
   "source": [
    "**<font color=\"#126534\">SOLUCIÓN.</font>**<br>\n",
    "Recordemos la fórmula $$t = \\dfrac{M^{2/3} c \\rho^{1/3}}{K \\pi^2 (4\\pi/3)^{2/3}} \\ln \\left[ 0.76 \\dfrac{T_o - T_w}{T_y - T_w}\\right]$$\n",
    "\n",
    "`numerador` = $M^{2/3} c \\rho^{1/3}$\n",
    "\n",
    "`denominador` = $K \\pi^2 (4\\pi/3)^{2/3}$\n",
    "\n",
    "`logaritmo` = $ln \\left[ 0.76 \\dfrac{T_o - T_w}{T_y - T_w}\\right]$\n",
    "\n",
    "Observamos que lo único que cambia es `logaritmo`."
   ]
  },
  {
   "cell_type": "code",
   "execution_count": 23,
   "metadata": {},
   "outputs": [
    {
     "name": "stdout",
     "output_type": "stream",
     "text": [
      "4\n",
      "5\n",
      "6\n",
      "7\n",
      "8\n",
      "9\n",
      "10\n",
      "11\n",
      "12\n",
      "13\n",
      "14\n",
      "15\n",
      "16\n",
      "17\n",
      "18\n",
      "19\n"
     ]
    }
   ],
   "source": [
    "for To in range(4, 20):\n",
    "    print(To)"
   ]
  },
  {
   "cell_type": "code",
   "execution_count": 24,
   "metadata": {},
   "outputs": [
    {
     "name": "stdout",
     "output_type": "stream",
     "text": [
      "313.09454902221637\n",
      "309.4055027800624\n",
      "305.67741828677\n",
      "301.9094604759048\n",
      "298.100767196758\n",
      "294.2504480302776\n",
      "290.3575830395756\n",
      "286.42122145062837\n",
      "282.44038025843554\n",
      "278.4140427535251\n",
      "274.34115696328047\n",
      "270.22063400211084\n",
      "266.05134632399177\n",
      "261.83212587036\n",
      "257.5617621057524\n",
      "253.23899993292162\n",
      "248.86253747844736\n"
     ]
    }
   ],
   "source": [
    "for To in range(4, 21):\n",
    "    logaritmo = math.log(0.76 * (To - Tw) / (Ty - Tw))\n",
    "    t = numerador / denominador * logaritmo\n",
    "    print(t)"
   ]
  },
  {
   "cell_type": "code",
   "execution_count": 25,
   "metadata": {},
   "outputs": [
    {
     "name": "stdout",
     "output_type": "stream",
     "text": [
      "4 5.218242483703606\n",
      "5 5.156758379667707\n",
      "6 5.094623638112833\n",
      "7 5.03182434126508\n",
      "8 4.968346119945966\n",
      "9 4.90417413383796\n",
      "10 4.8392930506595935\n",
      "11 4.773687024177139\n",
      "12 4.7073396709739255\n",
      "13 4.640234045892085\n",
      "14 4.572352616054674\n",
      "15 4.503677233368514\n",
      "16 4.434189105399863\n",
      "17 4.363868764506\n",
      "18 4.292696035095873\n",
      "19 4.220649998882027\n",
      "20 4.147708957974123\n"
     ]
    }
   ],
   "source": [
    "for To in range(4, 21):\n",
    "    logaritmo = math.log(0.76 * (To - Tw) / (Ty - Tw))\n",
    "    t = numerador / denominador * logaritmo\n",
    "    print(To, t/60)"
   ]
  },
  {
   "cell_type": "code",
   "execution_count": 26,
   "metadata": {},
   "outputs": [
    {
     "name": "stdout",
     "output_type": "stream",
     "text": [
      "Temperatura \t Tiempo\n",
      " 4 \t\t 5:13\n",
      " 5 \t\t 5:9\n",
      " 6 \t\t 5:5\n",
      " 7 \t\t 5:1\n",
      " 8 \t\t 4:58\n",
      " 9 \t\t 4:54\n",
      " 10 \t\t 4:50\n",
      " 11 \t\t 4:46\n",
      " 12 \t\t 4:42\n",
      " 13 \t\t 4:38\n",
      " 14 \t\t 4:34\n",
      " 15 \t\t 4:30\n",
      " 16 \t\t 4:26\n",
      " 17 \t\t 4:21\n",
      " 18 \t\t 4:17\n",
      " 19 \t\t 4:13\n",
      " 20 \t\t 4:8\n"
     ]
    }
   ],
   "source": [
    "print('Temperatura \\t Tiempo')\n",
    "for To in range(4, 21):\n",
    "    logaritmo = math.log(0.76 * (To - Tw) / (Ty - Tw))\n",
    "    t = numerador / denominador * logaritmo\n",
    "    t_min = int(t / 60)\n",
    "    t_seg = int(t - t_min * 60) \n",
    "    print(' {} \\t\\t {}:{}'.format(To, t_min, t_seg))"
   ]
  },
  {
   "cell_type": "code",
   "execution_count": 27,
   "metadata": {},
   "outputs": [
    {
     "name": "stdout",
     "output_type": "stream",
     "text": [
      "Temperatura \t Tiempo\n",
      " 4 \t\t 5:13\n",
      " 5 \t\t 5:9\n",
      " 6 \t\t 5:5\n",
      " 7 \t\t 5:1\n",
      " 8 \t\t 4:58\n",
      " 9 \t\t 4:54\n",
      " 10 \t\t 4:50\n",
      " 11 \t\t 4:46\n",
      " 12 \t\t 4:42\n",
      " 13 \t\t 4:38\n",
      " 14 \t\t 4:34\n",
      " 15 \t\t 4:30\n",
      " 16 \t\t 4:26\n",
      " 17 \t\t 4:21\n",
      " 18 \t\t 4:17\n",
      " 19 \t\t 4:13\n",
      " 20 \t\t 4:8\n"
     ]
    }
   ],
   "source": [
    "#4. Realizar lo mismo que en 1, 2 y 3, pero con dos listas `list`: una para las temperaturas y otra para los tiempos.\n",
    "print('Temperatura \\t Tiempo')\n",
    "Ts = [] # Temperaturas\n",
    "ts = [] # Tiempos\n",
    "for To in range(4,21):\n",
    "    Ts.append(To)\n",
    "    logaritmo = math.log(0.76 * (To - Tw) / (Ty - Tw))\n",
    "    t = numerador / denominador * logaritmo\n",
    "    t_min = int(t / 60)\n",
    "    t_seg = int(t - t_min * 60) \n",
    "    ts.append(str(t_min) + ':' + str(t_seg)) \n",
    "\n",
    "for T, t in zip(Ts, ts):\n",
    "    print(' {} \\t\\t {}'.format(T, t))"
   ]
  },
  {
   "cell_type": "code",
   "execution_count": 28,
   "metadata": {},
   "outputs": [
    {
     "name": "stdout",
     "output_type": "stream",
     "text": [
      "Temperatura \t Tiempo\n",
      " 4 \t\t 5:13\n",
      " 5 \t\t 5:9\n",
      " 6 \t\t 5:5\n",
      " 7 \t\t 5:1\n",
      " 8 \t\t 4:58\n",
      " 9 \t\t 4:54\n",
      " 10 \t\t 4:50\n",
      " 11 \t\t 4:46\n",
      " 12 \t\t 4:42\n",
      " 13 \t\t 4:38\n",
      " 14 \t\t 4:34\n",
      " 15 \t\t 4:30\n",
      " 16 \t\t 4:26\n",
      " 17 \t\t 4:21\n",
      " 18 \t\t 4:17\n",
      " 19 \t\t 4:13\n",
      " 20 \t\t 4:8\n"
     ]
    }
   ],
   "source": [
    "#5. Realizar lo mismo que en 1, 2 y 3, pero con un diccionario `dict`.print('Temperatura \\t Tiempo')\n",
    "print('Temperatura \\t Tiempo')\n",
    "tiempos_huevo = {} # diccionario vacío\n",
    "for To in range(4,21):\n",
    "    logaritmo = math.log(0.76 * (To - Tw) / (Ty - Tw))\n",
    "    t = numerador / denominador * logaritmo\n",
    "    t_min = int(t / 60)\n",
    "    t_seg = int(t - t_min * 60) \n",
    "    tiempos_huevo[To] = str(t_min) + ':' + str(t_seg)\n",
    "\n",
    "for key in tiempos_huevo:\n",
    "    print(' {} \\t\\t {}'.format(key, tiempos_huevo[key]))"
   ]
  },
  {
   "cell_type": "markdown",
   "metadata": {},
   "source": [
    "Ejemplos de como recorrer diccionarios"
   ]
  },
  {
   "cell_type": "code",
   "execution_count": 29,
   "metadata": {},
   "outputs": [
    {
     "data": {
      "text/plain": [
       "dict_items([(4, '5:13'), (5, '5:9'), (6, '5:5'), (7, '5:1'), (8, '4:58'), (9, '4:54'), (10, '4:50'), (11, '4:46'), (12, '4:42'), (13, '4:38'), (14, '4:34'), (15, '4:30'), (16, '4:26'), (17, '4:21'), (18, '4:17'), (19, '4:13'), (20, '4:8')])"
      ]
     },
     "execution_count": 29,
     "metadata": {},
     "output_type": "execute_result"
    }
   ],
   "source": [
    "d_items = tiempos_huevo.items()\n",
    "d_items"
   ]
  },
  {
   "cell_type": "code",
   "execution_count": 30,
   "metadata": {},
   "outputs": [
    {
     "name": "stdout",
     "output_type": "stream",
     "text": [
      "(4, '5:13')\n",
      "(5, '5:9')\n",
      "(6, '5:5')\n",
      "(7, '5:1')\n",
      "(8, '4:58')\n",
      "(9, '4:54')\n",
      "(10, '4:50')\n",
      "(11, '4:46')\n",
      "(12, '4:42')\n",
      "(13, '4:38')\n",
      "(14, '4:34')\n",
      "(15, '4:30')\n",
      "(16, '4:26')\n",
      "(17, '4:21')\n",
      "(18, '4:17')\n",
      "(19, '4:13')\n",
      "(20, '4:8')\n"
     ]
    }
   ],
   "source": [
    "for item in tiempos_huevo.items():\n",
    "    print(item)"
   ]
  },
  {
   "cell_type": "code",
   "execution_count": 31,
   "metadata": {},
   "outputs": [
    {
     "name": "stdout",
     "output_type": "stream",
     "text": [
      "4 5:13\n",
      "5 5:9\n",
      "6 5:5\n",
      "7 5:1\n",
      "8 4:58\n",
      "9 4:54\n",
      "10 4:50\n",
      "11 4:46\n",
      "12 4:42\n",
      "13 4:38\n",
      "14 4:34\n",
      "15 4:30\n",
      "16 4:26\n",
      "17 4:21\n",
      "18 4:17\n",
      "19 4:13\n",
      "20 4:8\n"
     ]
    }
   ],
   "source": [
    "for k, i in tiempos_huevo.items():\n",
    "    print(k, i)"
   ]
  },
  {
   "cell_type": "code",
   "execution_count": 32,
   "metadata": {},
   "outputs": [
    {
     "name": "stdout",
     "output_type": "stream",
     "text": [
      "4\n",
      "5\n",
      "6\n",
      "7\n",
      "8\n",
      "9\n",
      "10\n",
      "11\n",
      "12\n",
      "13\n",
      "14\n",
      "15\n",
      "16\n",
      "17\n",
      "18\n",
      "19\n",
      "20\n"
     ]
    }
   ],
   "source": [
    "for key in tiempos_huevo.keys():\n",
    "    print(key)"
   ]
  },
  {
   "cell_type": "code",
   "execution_count": 33,
   "metadata": {},
   "outputs": [
    {
     "name": "stdout",
     "output_type": "stream",
     "text": [
      "5:13\n",
      "5:9\n",
      "5:5\n",
      "5:1\n",
      "4:58\n",
      "4:54\n",
      "4:50\n",
      "4:46\n",
      "4:42\n",
      "4:38\n",
      "4:34\n",
      "4:30\n",
      "4:26\n",
      "4:21\n",
      "4:17\n",
      "4:13\n",
      "4:8\n"
     ]
    }
   ],
   "source": [
    "for val in tiempos_huevo.values():\n",
    "    print(val)"
   ]
  },
  {
   "cell_type": "markdown",
   "metadata": {},
   "source": [
    "### Ejercicio 4.\n",
    "Utilice la versión que más le agrade para escribir las temperaturas y los tiempos de cocción de un huevo duro, y modifíquela para que haga lo siguiente:\n",
    "1. Al principio de la ejecución solicite al usuario:\n",
    "    - el nombre de un archivo donde va a guardar la tabla de resultados\n",
    "    - el peso del huevo\n",
    "2. Imprima la tabla de resultados en pantalla.\n",
    "3. Guarde la tabla en el archivo.\n",
    "4. Muestre un mensaje al usuario diciendo el nombre del archivo donde se guardó el resultado."
   ]
  },
  {
   "cell_type": "markdown",
   "metadata": {},
   "source": [
    "<a href=\"./T05_Entrada_Salida_Archivos.ipynb\">Entrada, Salida y Archivos</a>"
   ]
  },
  {
   "cell_type": "code",
   "execution_count": null,
   "metadata": {},
   "outputs": [],
   "source": [
    "nombre_archivo = input('Nombre del archivo: ')\n",
    "M = float(input('Peso del huevo = '))\n",
    "numerador = M**(2/3) * c * rho**(1/3)\n",
    "\n",
    "print('Temperatura \\t Tiempo')\n",
    "tiempos_huevo = {} # diccionario vacío\n",
    "for To in range(4,21):\n",
    "    logaritmo = math.log(0.76 * (To - Tw) / (Ty - Tw))\n",
    "    t = numerador / denominador * logaritmo\n",
    "    t_min = int(t / 60)\n",
    "    t_seg = int(t - t_min * 60) \n",
    "    tiempos_huevo[To] = str(t_min) + ':' + str(t_seg)\n",
    "\n",
    "with open(nombre_archivo, 'w') as archivo_abierto:\n",
    "    archivo_abierto.write('Temperatura \\t Tiempo\\n')\n",
    "    for key in tiempos_huevo:\n",
    "        print(' {} \\t\\t {}'.format(key, tiempos_huevo[key]))\n",
    "        archivo_abierto.write(' {} \\t\\t {}\\n'.format(key, tiempos_huevo[key]))\n",
    "    \n",
    "print('La tabla de tiempos de cocción se guardó en el archivo: \"{}\"'.format(nombre_archivo))"
   ]
  },
  {
   "cell_type": "markdown",
   "metadata": {},
   "source": [
    "### Ejercicio 5.\n",
    "Modificar el código del ejercicio 4 para que el nombre del archivo contenga el peso del huevo. Por ejemplo, si el usuario teclea `tiempo_coccion`, el resultado final se almacenará en un archivo de nombre `tiempo_coccion_67`."
   ]
  },
  {
   "cell_type": "markdown",
   "metadata": {},
   "source": [
    "### Ejercicio 6.\n",
    "Calcule la tabla de tiempos para un huevo de 67 gramos. Luego determine la temperatura a la cuál debería estar el huevo originalmente para que el tiempo de cocción se exactamente  de 6 minutos."
   ]
  },
  {
   "cell_type": "markdown",
   "metadata": {},
   "source": [
    "### <font color=\"#0000FF\"> <b>Miniproyecto 1.</b></font>\n",
    "Calcule las tablas de tiempos para huevos con peso mínimo de 47 y máximo de 67 gramos, en pasos de 1 gramo. Imprima al principio de cada tabla la leyenda: `Peso del huevo = 67 [g]`. Almacenar estas tablas en una lista de diccionarios. Guardar las tablas de manera secuencial en un archivo cuyo nombre debe ser proporcionado por el usuario. Finalmente preguntar al usuario la tabla de tiempos que desea ver (con base en el peso del huevo) en pantalla. "
   ]
  }
 ],
 "metadata": {
  "kernelspec": {
   "display_name": "Python 3",
   "language": "python",
   "name": "python3"
  },
  "language_info": {
   "codemirror_mode": {
    "name": "ipython",
    "version": 3
   },
   "file_extension": ".py",
   "mimetype": "text/x-python",
   "name": "python",
   "nbconvert_exporter": "python",
   "pygments_lexer": "ipython3",
   "version": "3.8.5"
  }
 },
 "nbformat": 4,
 "nbformat_minor": 4
}
