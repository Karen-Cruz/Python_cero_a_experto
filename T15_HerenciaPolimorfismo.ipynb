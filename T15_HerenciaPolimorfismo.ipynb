{
 "cells": [
  {
   "cell_type": "markdown",
   "metadata": {},
   "source": [
    "# Python 3: Programación Orientada a Objetos\n",
    "\n",
    "Autor: Luis M. de la Cruz, IGF-UNAM, octubre de 2019.\n"
   ]
  },
  {
   "cell_type": "markdown",
   "metadata": {},
   "source": [
    "# 4. <font color=blue> Herencia y polimorfismo </font>\n",
    "\n",
    "## 4.1 <font color=orange> Herencia </font>\n",
    "\n",
    "- Las clases pueden heredar de otras clases.\n",
    "- Por ejemplo: \n",
    "    - El Círculo se puede clasificar como una forma geométrica.\n",
    "    - Un Rectángulo también es una forma geométrica.\n",
    "    \n",
    "  <img src=\"./Figuras/Herencia.png\" alt=\"Smiley\">"
   ]
  },
  {
   "cell_type": "markdown",
   "metadata": {},
   "source": [
    "### Ejemplo"
   ]
  },
  {
   "cell_type": "code",
   "execution_count": null,
   "metadata": {},
   "outputs": [],
   "source": [
    "class Forma:\n",
    "    \n",
    "    def __init__(self, nombre):\n",
    "        self._nombre = nombre\n",
    "        \n",
    "    def getNombre(self):\n",
    "        return self._nombre\n",
    "        \n",
    "class Poligono(Forma):\n",
    "    pass"
   ]
  },
  {
   "cell_type": "code",
   "execution_count": null,
   "metadata": {},
   "outputs": [],
   "source": [
    "f = Forma('formita')\n",
    "p = Poligono('triangulo')\n",
    "print(f.getNombre())\n",
    "print(p.getNombre())\n",
    "print('-'*40)\n",
    "\n",
    "print(type(f))\n",
    "print(type(p))\n",
    "print('-'*40)\n",
    "\n",
    "print(type(f) == Forma, type(f) == Poligono)\n",
    "print(type(p) == Forma, type(p) == Poligono)\n",
    "print('-'*40)\n",
    "\n",
    "print(isinstance(f, Forma), isinstance(f, Poligono))\n",
    "print(isinstance(p, Forma), isinstance(p, Poligono))\n",
    "print('-'*40)\n"
   ]
  },
  {
   "cell_type": "markdown",
   "metadata": {},
   "source": [
    "### 4.1 <font color=green> Jerarquías </font>"
   ]
  },
  {
   "cell_type": "code",
   "execution_count": null,
   "metadata": {},
   "outputs": [],
   "source": [
    "class A:\n",
    "    pass\n",
    "\n",
    "class B(A):\n",
    "    pass\n",
    "\n",
    "class C(B):\n",
    "    pass\n",
    "\n",
    "class D(B):\n",
    "    pass\n",
    "\n",
    "x = A()\n",
    "y = B()\n",
    "z = C()\n",
    "d = D()\n",
    "print(isinstance(x, C), isinstance(x, B), isinstance(x, A))\n",
    "print(isinstance(y, C), isinstance(y, B), isinstance(x, A))\n",
    "print(isinstance(z, C), isinstance(z, B), isinstance(x, A))\n",
    "print(isinstance(d, D), isinstance(d, B), isinstance(d, A))"
   ]
  },
  {
   "cell_type": "markdown",
   "metadata": {},
   "source": [
    "### 4.2 <font color=green> Overriding </font>\n",
    "\n",
    "Se puede declarar un método en la  clase derivada con el mismo nombre que en la clase base. Cualquier objeto de la clase derivada hará primero referencia al método definido en dicha clase; si no encuentra la función definida en la clase derivada, entonces buscará en la clase padre."
   ]
  },
  {
   "cell_type": "code",
   "execution_count": null,
   "metadata": {},
   "outputs": [],
   "source": [
    "class Forma:\n",
    "    \n",
    "    def __init__(self, nombre):\n",
    "        self._nombre = nombre\n",
    "        \n",
    "    def getNombre(self):\n",
    "        return self._nombre\n",
    "    \n",
    "    def dibuja(self):\n",
    "        print('El nombre es', self._nombre)\n",
    "        \n",
    "class Circulo(Forma):\n",
    "    def dibuja(self):\n",
    "        print('El nombre es', self._nombre, 'y su área es : a = pi * r ** 2')\n",
    "        "
   ]
  },
  {
   "cell_type": "code",
   "execution_count": null,
   "metadata": {},
   "outputs": [],
   "source": [
    "f = Forma('formita')\n",
    "c = Circulo('ruedita')\n",
    "\n",
    "f.dibuja()\n",
    "c.dibuja()"
   ]
  },
  {
   "cell_type": "markdown",
   "metadata": {},
   "source": [
    "### 4.3 <font color=green> Función `super()` </font>\n",
    "\n",
    "- Cuando se construye una clase a partir de otra mediante la herencia, es conveniente que la clase derivada sea construida también como un objeto de la clase padre. \n",
    "- Para realizar esto hay dos opciones:"
   ]
  },
  {
   "cell_type": "code",
   "execution_count": null,
   "metadata": {},
   "outputs": [],
   "source": [
    "\n",
    "class Forma:\n",
    "    \n",
    "    def __init__(self, nombre = 'sin nombre'):\n",
    "        self._area = 0.0\n",
    "        self._nombre = nombre\n",
    "\n",
    "    def setNombre(self, nombre):\n",
    "        self._nombre = nombre\n",
    "        \n",
    "    def getNombre(self):\n",
    "        return self._nombre\n",
    "\n",
    "    def getArea(self):\n",
    "        return self._area\n",
    "    \n",
    "    def dibuja(self):\n",
    "        print('El nombre es', self._nombre, end='. ')\n",
    "\n",
    "from math import pi\n",
    "\n",
    "class Circulo(Forma):\n",
    "    \n",
    "    __cuenta = 0 # Atributo privado estático para\n",
    "                 # contar el número de círculos \n",
    "    \n",
    "    def __init__(self, radio = None, centro = None):\n",
    "        #\n",
    "        # Dos maneras de ejecutar el constructor de la clase padre:\n",
    "        #\n",
    "        Forma.__init__(self, 'Circulo') # Se ejecuta el constructor de la \n",
    "                                         # clase base usando su nombre\n",
    "#        super().__init__('Circulo') # También se ejecuta el constructor de la \n",
    "                                    # clase padre, pero sin indicar su nombre\n",
    "    \n",
    "        type(self).__cuenta += 1  # Accediendo al atributo estático mediante el tipo de la Clase\n",
    "        self.__radio = radio\n",
    "        self.__centro = centro\n",
    "        \n",
    "    def __del__(self):\n",
    "        type(self).__cuenta -= 1\n",
    "    \n",
    "    @staticmethod       # Así definimos un método estático\n",
    "    def getCuenta():    # Ahora la función no recibe parámetro\n",
    "        return Circulo.__cuenta\n",
    "    \n",
    "    def setRadio(self, radio):\n",
    "        self.__radio = radio\n",
    "        \n",
    "    def getRadio(self):\n",
    "        return self.__radio\n",
    "\n",
    "    def setCentro(self, centro):\n",
    "        self.__centro = centro\n",
    "    \n",
    "    def getCentro(self):\n",
    "        return self.__centro\n",
    "\n",
    "    def calcArea(self):\n",
    "        return pi * self.__radio ** 2\n",
    "\n",
    "    def dibuja(self):\n",
    "        Forma.dibuja(self)\n",
    "        print('El área es : ', self.calcArea())\n",
    "        \n",
    "forma_x = Forma()\n",
    "rueda = Circulo(4,(2,3))\n",
    "\n",
    "print(type(forma_x))\n",
    "print(type(rueda))\n",
    "\n"
   ]
  },
  {
   "cell_type": "code",
   "execution_count": null,
   "metadata": {},
   "outputs": [],
   "source": [
    "print(forma_x.dibuja())\n",
    "rueda.dibuja()"
   ]
  },
  {
   "cell_type": "code",
   "execution_count": null,
   "metadata": {},
   "outputs": [],
   "source": [
    "print(rueda.getRadio(), rueda.getCentro())"
   ]
  },
  {
   "cell_type": "code",
   "execution_count": null,
   "metadata": {},
   "outputs": [],
   "source": [
    "rueda.setNombre('Rueda')"
   ]
  },
  {
   "cell_type": "code",
   "execution_count": null,
   "metadata": {},
   "outputs": [],
   "source": [
    "print(rueda.getNombre())"
   ]
  },
  {
   "cell_type": "code",
   "execution_count": null,
   "metadata": {},
   "outputs": [],
   "source": [
    "rueda.dibuja()"
   ]
  },
  {
   "cell_type": "code",
   "execution_count": null,
   "metadata": {},
   "outputs": [],
   "source": [
    "rueda.setRadio(15)\n",
    "rueda.dibuja()\n",
    "print(rueda.getCuenta())"
   ]
  },
  {
   "cell_type": "code",
   "execution_count": null,
   "metadata": {},
   "outputs": [],
   "source": [
    "llanta = Circulo(3, (1,1))\n",
    "print(rueda.getCuenta())"
   ]
  },
  {
   "cell_type": "markdown",
   "metadata": {},
   "source": [
    "### Ejercicio\n",
    "Diseñar e implementar la clase Rectángulo con la misma funcionalidad que la clase Circulo; además, crear una función en la clase Forma para que cuente toda tipo de formas, de tal manera que si se crean 5 Circulos y 3 Rectángulos, la suma total de formas debe ser 8."
   ]
  },
  {
   "cell_type": "code",
   "execution_count": null,
   "metadata": {},
   "outputs": [],
   "source": [
    "class Forma:\n",
    "\n",
    "    _cuenta_total = 0 # Atributo compartido con todas las subclases\n",
    "    \n",
    "    def __init__(self, nombre = 'sin nombre'):\n",
    "        Forma._cuenta_total +=1\n",
    "        self._area = 0.0\n",
    "        self._nombre = nombre\n",
    "    \n",
    "    def __del__(self):\n",
    "        Forma._cuenta_total -= 1\n",
    "        \n",
    "    @staticmethod       # Así definimos un método estático\n",
    "    def getCuenta():    # Ahora la función no recibe parámetro\n",
    "        return Forma._cuenta_total\n",
    "    \n",
    "    def setNombre(self, nombre):\n",
    "        self._nombre = nombre\n",
    "        \n",
    "    def getNombre(self):\n",
    "        return self._nombre\n",
    "\n",
    "    def getArea(self):\n",
    "        return self._area\n",
    "    \n",
    "    def dibuja(self):\n",
    "        print('El nombre es', self._nombre, end='. ')\n",
    "\n",
    "from math import pi\n",
    "\n",
    "class Circulo(Forma):\n",
    "    \n",
    "    __cuenta = 0 # Atributo privado estático para\n",
    "                 # contar el número de círculos \n",
    "    \n",
    "    def __init__(self, radio = None, centro = None):\n",
    "        super().__init__('Circulo') \n",
    "        type(self).__cuenta += 1  # Accediendo al atributo estático mediante el tipo de la Clase\n",
    "        Forma._cuenta_total +=1\n",
    "        \n",
    "        self.__radio = radio\n",
    "        self.__centro = centro\n",
    "        \n",
    "    def __del__(self):\n",
    "        Forma._cuenta_total -= 1\n",
    "        type(self).__cuenta -= 1\n",
    "    \n",
    "    @staticmethod       # Así definimos un método estático\n",
    "    def getCuenta():    # Ahora la función no recibe parámetro\n",
    "        return Circulo.__cuenta\n",
    "    \n",
    "    def setRadio(self, radio):\n",
    "        self.__radio = radio\n",
    "        \n",
    "    def getRadio(self):\n",
    "        return self.__radio\n",
    "\n",
    "    def setCentro(self, centro):\n",
    "        self.__centro = centro\n",
    "    \n",
    "    def getCentro(self):\n",
    "        return self.__centro\n",
    "\n",
    "    def calcArea(self):\n",
    "        return pi * self.__radio ** 2\n",
    "\n",
    "    def dibuja(self):\n",
    "        Forma.dibuja(self)\n",
    "        print('El área es : ', self.calcArea())\n",
    "        \n",
    "\n",
    "forma1 = Forma()\n",
    "forma2 = Forma('B')\n",
    "forma3 = Forma()\n",
    "rueda1 = Circulo(4,(2,3))\n",
    "rueda2 = Circulo(1,(0,0))\n",
    "rueda3 = Circulo()\n",
    "rueda4 = Circulo()\n",
    "\n",
    "print(Forma.getCuenta())\n",
    "print(Circulo.getCuenta())\n",
    "print('-'*30)\n",
    "\n",
    "del rueda3\n",
    "\n",
    "print(Forma.getCuenta())\n",
    "print(Circulo.getCuenta())\n",
    "print('-'*30)\n",
    "\n",
    "del rueda1\n",
    "\n",
    "print(Forma.getCuenta())\n",
    "print(Circulo.getCuenta())\n",
    "print('-'*30)\n",
    "\n",
    "del forma2\n",
    "\n",
    "print(Forma.getCuenta())\n",
    "print(Circulo.getCuenta())"
   ]
  },
  {
   "cell_type": "markdown",
   "metadata": {},
   "source": [
    "## 4.2 <font color=orange> Polimorfismo </font>\n",
    "\n",
    "### 4.2.1 <font color=green> Métodos mágicos (*'dunder' methods*) </font>\n",
    "\n",
    "- Son aquellos que comienzan con doble guión bajo y terminan igual (*double underscore*).\n",
    "- No se tienen que ejecutar de manera explícita.\n",
    "- Ejemplos: `__init__`, `__del__`, `__call__`, `__next__`\n",
    "- Un conjunto de estos métodos mágicos nos ayudan a realizar la sobrecarga de operadores:\n",
    "    - Por ejemplo, el operador `+` puede usarse para sumar dos enteros o dos complejos o dos cadenas, etc. La operación está implementada de manera diferente y se ejecuta la adecuada dependiendo del tipo de los operandos.\n",
    "    - El mecanismo es el siguiente: dada la expresión `x + y`, se checa el tipo de `x`; supongamos que `x` es un objeto de la clase `C`; si en la definición de la clase `C` existe el método `__add__`, entonces la expresión anterior se ejecuta como: `x.__add__(y)`; en otro caso se obtiene un error de tipo como el siguiente:\n",
    "```python\n",
    "Traceback (most recent call last):\n",
    "      File \"<stdin>\", line 1, in <module>\n",
    "TypeError: unsupported operand type(s) for +: 'C' and 'C'\n",
    "```\n",
    "\n",
    "- Métodos mágicos binarios:\n",
    "\n",
    "|Operador | Método |\n",
    "|---------|--------|\n",
    "|+ | `object.__add__(self, other)` |\n",
    "|- | `object.__sub__(self, other)` |\n",
    "|* | `object.__mul__(self, other)` |\n",
    "|// | `object.__floordiv__(self, other)` |\n",
    "|/ \t| `object.__truediv__(self, other)` |\n",
    "|% \t| `object.__mod__(self, other)` |\n",
    "|** | `object.__pow__(self, other[, modulo])` |\n",
    "|<< | `object.__lshift__(self, other)` |\n",
    "|>> | `object.__rshift__(self, other)` |\n",
    "|& \t| `object.__and__(self, other)` |\n",
    "|^ \t| `object.__xor__(self, other)` |\n",
    "|| \t| `object.__or__(self, other)` |\n",
    "\n",
    "- Métodos mágicos de asignación:\n",
    "\n",
    "|Operador | Método |\n",
    "|---------|--------|\n",
    "|+= |   `object.__iadd__(self, other)`|\n",
    "|-= |\t`object.__isub__(self, other)`|\n",
    "|*= |\t`object.__imul__(self, other)`|\n",
    "|/= |\t`object.__idiv__(self, other)`|\n",
    "|//= |\t`object.__ifloordiv__(self, other)`|\n",
    "|%= |  `object.__imod__(self, other)`|\n",
    "|**= |\t`object.__ipow__(self, other[, modulo])`|\n",
    "|<<= |\t`object.__ilshift__(self, other)`|\n",
    "|>>= |\t`object.__irshift__(self, other)`|\n",
    "|&= |\t`object.__iand__(self, other)`|\n",
    "|^= |\t`object.__ixor__(self, other)`|\n",
    "||= |\t`object.__ior__(self, other)` |\n",
    "\n",
    "\n",
    "- Métodos mágicos uniarios:\n",
    "\n",
    "|Operador | Método |\n",
    "|---------|--------|\n",
    "|- |\t`object.__neg__(self)`|\n",
    "|+ |\t`object.__pos__(self)`|\n",
    "|abs() |\t`object.__abs__(self)`|\n",
    "|~ |\t`object.__invert__(self)`|\n",
    "|complex()| \t`object.__complex__(self)`|\n",
    "|int() |\t`object.__int__(self)`|\n",
    "|long()| \t`object.__long__(self)`|\n",
    "|float()| \t`object.__float__(self)`|\n",
    "|oct() |\t`object.__oct__(self)`|\n",
    "|hex()| \t`object.__hex__(self)` |\n",
    "\n",
    "- Métodos mágicos de comparación:\n",
    "\n",
    "|Operador | Método |\n",
    "|---------|--------|\n",
    "|< |\t`object.__lt__(self, other)`|\n",
    "|<= |\t`object.__le__(self, other)`|\n",
    "|== |\t`object.__eq__(self, other)`|\n",
    "|!= |\t`object.__ne__(self, other)`|\n",
    "|>= |\t`object.__ge__(self, other)`|\n",
    "|> |\t`object.__gt__(self, other)`|\n"
   ]
  },
  {
   "cell_type": "markdown",
   "metadata": {},
   "source": [
    "### 4.2.2 <font color=green>  Tipos estándar como clases base </float>\n",
    "\n",
    "- Es posible usar los tipos estándar, como `float`, `int`, `string`, `list`, etc, como base para definir nuevas clases."
   ]
  },
  {
   "cell_type": "code",
   "execution_count": null,
   "metadata": {},
   "outputs": [],
   "source": [
    "class iList(list):\n",
    "    \n",
    "    def __init__(self, l = None):\n",
    "        if l == None:\n",
    "            self.__l = []\n",
    "        else:\n",
    "            for i in l:\n",
    "                self.append(i)\n",
    "    "
   ]
  },
  {
   "cell_type": "code",
   "execution_count": null,
   "metadata": {},
   "outputs": [],
   "source": [
    "l1 = iList()"
   ]
  },
  {
   "cell_type": "code",
   "execution_count": null,
   "metadata": {},
   "outputs": [],
   "source": [
    "l1.append(1)"
   ]
  },
  {
   "cell_type": "code",
   "execution_count": null,
   "metadata": {},
   "outputs": [],
   "source": [
    "l1"
   ]
  },
  {
   "cell_type": "code",
   "execution_count": null,
   "metadata": {},
   "outputs": [],
   "source": [
    "l2 = iList(l = [1,2,3,4])"
   ]
  },
  {
   "cell_type": "code",
   "execution_count": null,
   "metadata": {},
   "outputs": [],
   "source": [
    "l2"
   ]
  },
  {
   "cell_type": "markdown",
   "metadata": {},
   "source": [
    "### 4.2.3 <font color=green>  Sobrecarga de operadores </float>\n"
   ]
  },
  {
   "cell_type": "code",
   "execution_count": null,
   "metadata": {},
   "outputs": [],
   "source": [
    "# Construyo una lista para números enteros a partir de list\n",
    "class iList(list):\n",
    "    \n",
    "    def __init__(self, l = None):\n",
    "        if l == None:\n",
    "            self.__l = []\n",
    "        else:\n",
    "            for i in l:\n",
    "                self.append(i)\n",
    "    \n",
    "    def suma(self, a, b):\n",
    "        return a + b\n",
    "    \n",
    "    def __add__(self, otra):\n",
    "        return list(map(self.suma, self, otra))"
   ]
  },
  {
   "cell_type": "code",
   "execution_count": null,
   "metadata": {},
   "outputs": [],
   "source": [
    "iL1 = iList([1,2,3])\n",
    "iL2 = iList([6,5,4])\n",
    "iL1 + iL2\n",
    "print(type(iL1), type(iL2))"
   ]
  },
  {
   "cell_type": "code",
   "execution_count": null,
   "metadata": {},
   "outputs": [],
   "source": [
    "# Lo que hacen las listas de la biblioteca estándar:\n",
    "L1 = [1,2,3]\n",
    "L2 = [6,5,4]\n",
    "L1 + L2\n",
    "print(type(L1), type(L2))"
   ]
  },
  {
   "cell_type": "markdown",
   "metadata": {},
   "source": [
    "# 5. <font color=blue> *Context managers* </float>\n",
    "\n",
    "Lo manejadores de contexto permiten obtener y liberar recursos precisamente cuando se necesitan. Por ejemplo, para abrir un archivo, leer su contenido y cerrarlo de manera segura se puede hacer lo siguiente:"
   ]
  },
  {
   "cell_type": "code",
   "execution_count": null,
   "metadata": {},
   "outputs": [],
   "source": [
    "file = open('README.md', 'r')\n",
    "try:\n",
    "    data = file.read()\n",
    "finally:\n",
    "    file.close()"
   ]
  },
  {
   "cell_type": "code",
   "execution_count": null,
   "metadata": {},
   "outputs": [],
   "source": [
    "print(f.closed)"
   ]
  },
  {
   "cell_type": "code",
   "execution_count": null,
   "metadata": {},
   "outputs": [],
   "source": [
    "print(data)"
   ]
  },
  {
   "cell_type": "markdown",
   "metadata": {},
   "source": [
    "## 5.1 <font color=orange> `with` </float>\n",
    "\n",
    "El código anterior se puede reducir usando el manejador de contexto  `with` como sigue:"
   ]
  },
  {
   "cell_type": "code",
   "execution_count": null,
   "metadata": {},
   "outputs": [],
   "source": [
    "with open('README.md', 'r') as f:    \n",
    "    data = f.read() "
   ]
  },
  {
   "cell_type": "code",
   "execution_count": null,
   "metadata": {},
   "outputs": [],
   "source": [
    "print(f.closed)"
   ]
  },
  {
   "cell_type": "code",
   "execution_count": null,
   "metadata": {},
   "outputs": [],
   "source": [
    "print(data)"
   ]
  },
  {
   "cell_type": "markdown",
   "metadata": {},
   "source": [
    "Usando `with` se puede obtener un código más compacto, claro y seguro. \n",
    "\n",
    "En el caso de manejo de archivos, cuando se abre un archivo se genera un descriptor el cual consume recursos. El número de archivos que pueden estar abiertos a la vez en un proceso es limitado. Esto se puede demostrar en el siguiente código:"
   ]
  },
  {
   "cell_type": "code",
   "execution_count": null,
   "metadata": {},
   "outputs": [],
   "source": [
    "file_descriptors = [] \n",
    "for x in range(100000): \n",
    "    file_descriptors.append(open('test.txt', 'w')) "
   ]
  },
  {
   "cell_type": "markdown",
   "metadata": {},
   "source": [
    "## 5.2 <font color=orange> Creación de manejadores de contexto </float>\n",
    "\n",
    "- Se pueden crear manejadores de contexto usando clases o funciones (con decoradores).\n",
    "\n",
    "- Cuando se crean usando clases, se necesita asegurar que la clase tiene los métodos: \n",
    "    - `__enter__()` : regresa el recurso que se necesita usar y manejar.\n",
    "    - `__exit__()` : no regresa nada pero realiza todas las operaciones de limpieza.\n",
    "    \n",
    "- La estructura básica para crear un manejador de contexto es como sigue:\n"
   ]
  },
  {
   "cell_type": "code",
   "execution_count": null,
   "metadata": {},
   "outputs": [],
   "source": [
    "class ManejadorDeContexto(): \n",
    "    def __init__(self): \n",
    "        print('- Método __init__ ') \n",
    "          \n",
    "    def __enter__(self): \n",
    "        print('- Método __enter__ ') \n",
    "        return self\n",
    "      \n",
    "    def __exit__(self, exc_type, exc_value, exc_traceback): \n",
    "        print('- Método __exit__ ') "
   ]
  },
  {
   "cell_type": "code",
   "execution_count": null,
   "metadata": {},
   "outputs": [],
   "source": [
    "with ManejadorDeContexto() as manager: \n",
    "    print(\"--> bloque 'with' \") "
   ]
  },
  {
   "cell_type": "code",
   "execution_count": null,
   "metadata": {},
   "outputs": [],
   "source": [
    "class FileManager(): \n",
    "    def __init__(self, filename, mode): \n",
    "        self.filename = filename \n",
    "        self.mode = mode \n",
    "        self.file = None\n",
    "          \n",
    "    def __enter__(self): \n",
    "        self.file = open(self.filename, self.mode)\n",
    "        return self.file\n",
    "      \n",
    "    def __exit__(self, exc_type, exc_value, exc_traceback): \n",
    "        self.file.close() "
   ]
  },
  {
   "cell_type": "code",
   "execution_count": null,
   "metadata": {},
   "outputs": [],
   "source": [
    "# loading a file  \n",
    "with FileManager('contextoTest.txt', 'w') as f: \n",
    "    f.write('Test') \n",
    "    \n",
    "print(f.closed) "
   ]
  },
  {
   "cell_type": "markdown",
   "metadata": {},
   "source": [
    "La función `exit` recibe tres argumentos con los cuales es posible manejar excepciones que pudieran ocurrir durante el proceso de apertura y acceso al archivo:\n",
    "- `exc_type`: tipo de excepción.\n",
    "- `exc_value`: valor de la excepción.\n",
    "- `exc_traceback`: más información de la excepción.\n",
    "\n",
    "Cuando una excepción ocurre podemos manejarla y regresar True indicando que el error fue manejado adecuadamente. Por ejemplo:"
   ]
  },
  {
   "cell_type": "code",
   "execution_count": null,
   "metadata": {},
   "outputs": [],
   "source": [
    "# Usando una función no definida\n",
    "with FileManager('contextoTest.txt', 'w') as f: \n",
    "    f.mi_funcion('Test') "
   ]
  },
  {
   "cell_type": "code",
   "execution_count": null,
   "metadata": {},
   "outputs": [],
   "source": [
    "class FileManager(): \n",
    "    def __init__(self, filename, mode): \n",
    "        self.filename = filename \n",
    "        self.mode = mode \n",
    "        self.file = None\n",
    "          \n",
    "    def __enter__(self): \n",
    "        self.file = open(self.filename, self.mode)\n",
    "        return self.file\n",
    "      \n",
    "    def __exit__(self, exc_type, exc_value, exc_traceback): \n",
    "        if exc_type:\n",
    "            print('Type : {exc_type}')\n",
    "            print('Value: {exc_value}')\n",
    "            print('Traceback : {exc_traceback}')\n",
    "            print(\"La excepción ha sido manejada\")\n",
    "        self.file.close() \n",
    "        return True"
   ]
  },
  {
   "cell_type": "code",
   "execution_count": null,
   "metadata": {},
   "outputs": [],
   "source": [
    "# Usando una función no definida, pero controlada por __exit__\n",
    "with FileManager('contextoTest.txt', 'w') as f: \n",
    "    f.mi_funcion('Test') "
   ]
  },
  {
   "cell_type": "code",
   "execution_count": null,
   "metadata": {},
   "outputs": [],
   "source": [
    "with FileManager('contextoTest.txt', 'w') as f: \n",
    "    f.write('Test') "
   ]
  },
  {
   "cell_type": "code",
   "execution_count": null,
   "metadata": {},
   "outputs": [],
   "source": []
  }
 ],
 "metadata": {
  "kernelspec": {
   "display_name": "Python 3",
   "language": "python",
   "name": "python3"
  },
  "language_info": {
   "codemirror_mode": {
    "name": "ipython",
    "version": 3
   },
   "file_extension": ".py",
   "mimetype": "text/x-python",
   "name": "python",
   "nbconvert_exporter": "python",
   "pygments_lexer": "ipython3",
   "version": "3.7.3"
  }
 },
 "nbformat": 4,
 "nbformat_minor": 2
}
