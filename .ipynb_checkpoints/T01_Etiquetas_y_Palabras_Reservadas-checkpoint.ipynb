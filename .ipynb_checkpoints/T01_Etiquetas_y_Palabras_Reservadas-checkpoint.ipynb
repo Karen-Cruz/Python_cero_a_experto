{
 "cells": [
  {
   "cell_type": "markdown",
   "metadata": {},
   "source": [
    "# Python de cero a experto\n",
    "**Autor:** Luis Miguel de la Cruz Salas\n",
    "\n",
    "<a href=\"https://github.com/luiggix/Python_cero_a_experto\">Python de cero a experto</a> by Luis M. de la Cruz Salas is licensed under <a href=\"https://creativecommons.org/licenses/by-nc-nd/4.0?ref=chooser-v1\">Attribution-NonCommercial-NoDerivatives 4.0 International</a>"
   ]
  },
  {
   "cell_type": "markdown",
   "metadata": {},
   "source": [
    "# <font color=blue> Pythonico es más bonito </font>\n",
    "## <font color=orange> Etiquetas o variables </font>\n",
    "- Son símbolos que permiten identificar la información que se almacena en la memoria de la computadora.\n",
    "- Se crean con ayuda del operador de asignación (<font color=blue>=</font>).\n",
    "- No se tiene que establecer explícitamente el tipo de dato."
   ]
  },
  {
   "cell_type": "markdown",
   "metadata": {},
   "source": [
    "### Ejemplos válidos de etiquetas"
   ]
  },
  {
   "cell_type": "code",
   "execution_count": 2,
   "metadata": {},
   "outputs": [],
   "source": [
    "_luis = \"Luis Miguel de la Cruz\"\n",
    "LuisXV = \"Louis Michel de la Croix\"\n",
    "luigi = 25\n",
    "luis_b = 0b01110 # Binario\n",
    "luis_o = 0o12376 # Octal\n",
    "luis_h = 0x12323 # Hexadecimal\n",
    "\n",
    "# Sensibilidad a mayúsculas y minúsculas\n",
    "pi = 3.14\n",
    "PI = 31416e-4\n",
    "Pi = 3.141592"
   ]
  },
  {
   "cell_type": "code",
   "execution_count": 4,
   "metadata": {},
   "outputs": [
    {
     "name": "stdout",
     "output_type": "stream",
     "text": [
      "<class 'str'> <class 'str'>\n",
      "<class 'int'>\n",
      "<class 'int'> <class 'int'> <class 'int'>\n",
      "<class 'float'> <class 'float'> <class 'float'>\n"
     ]
    }
   ],
   "source": [
    "print(type(_luis), type(LuisXV))\n",
    "print(type(luigi))\n",
    "print(type(luis_b), type(luis_o), type(luis_h))\n",
    "print(type(pi), type(PI), type(Pi))"
   ]
  },
  {
   "cell_type": "code",
   "execution_count": 6,
   "metadata": {},
   "outputs": [
    {
     "data": {
      "text/plain": [
       "'Luismi'"
      ]
     },
     "execution_count": 6,
     "metadata": {},
     "output_type": "execute_result"
    }
   ],
   "source": [
    "ñero = 'Luismi'\n",
    "ñero"
   ]
  },
  {
   "cell_type": "markdown",
   "metadata": {},
   "source": [
    "**Unicode**: estándar para la codificación de caracteres, que permite el tratamiento informático, la transmisión y visualización de textos de muchos idiomas y disciplinas técnicas. Unicode:universalidad, uniformidad y unicidad. Unicode define tres formas de codificación bajo el nombre UTF (Unicode transformation format): UTF8, UTF16, UTF32. Véase https://es.wikipedia.org/wiki/Unicode"
   ]
  },
  {
   "cell_type": "code",
   "execution_count": 23,
   "metadata": {},
   "outputs": [
    {
     "data": {
      "text/plain": [
       "'Ħ'"
      ]
     },
     "execution_count": 23,
     "metadata": {},
     "output_type": "execute_result"
    }
   ],
   "source": [
    "chr(294)"
   ]
  },
  {
   "cell_type": "code",
   "execution_count": 26,
   "metadata": {},
   "outputs": [
    {
     "data": {
      "text/plain": [
       "233"
      ]
     },
     "execution_count": 26,
     "metadata": {},
     "output_type": "execute_result"
    }
   ],
   "source": [
    "ord('é')"
   ]
  },
  {
   "cell_type": "code",
   "execution_count": 27,
   "metadata": {},
   "outputs": [
    {
     "name": "stdout",
     "output_type": "stream",
     "text": [
      "é\n"
     ]
    }
   ],
   "source": [
    "u = chr(233)\n",
    "print(u)"
   ]
  },
  {
   "cell_type": "code",
   "execution_count": 29,
   "metadata": {},
   "outputs": [
    {
     "name": "stdout",
     "output_type": "stream",
     "text": [
      "0126\n",
      "3.141592\n"
     ]
    }
   ],
   "source": [
    "Ħ = 3.141592 # unicode\n",
    "print('{:04x}'.format(ord('Ħ')))\n",
    "print(Ħ)"
   ]
  },
  {
   "cell_type": "code",
   "execution_count": 32,
   "metadata": {},
   "outputs": [
    {
     "name": "stdout",
     "output_type": "stream",
     "text": [
      "Ħ\n"
     ]
    }
   ],
   "source": [
    "u = chr(0x0126) # formato hexadecimal comienza con '0x'\n",
    "print(u)"
   ]
  },
  {
   "cell_type": "code",
   "execution_count": 34,
   "metadata": {},
   "outputs": [
    {
     "name": "stdout",
     "output_type": "stream",
     "text": [
      "El ombligo de la luna\n"
     ]
    }
   ],
   "source": [
    "México='El ombligo de la luna'\n",
    "print(México)"
   ]
  },
  {
   "cell_type": "code",
   "execution_count": 36,
   "metadata": {},
   "outputs": [
    {
     "data": {
      "text/plain": [
       "'UTF-8'"
      ]
     },
     "execution_count": 36,
     "metadata": {},
     "output_type": "execute_result"
    }
   ],
   "source": [
    "# ¿Qué codificación de carateres estoy usando?\n",
    "import sys\n",
    "sys.stdout.encoding"
   ]
  },
  {
   "cell_type": "code",
   "execution_count": 45,
   "metadata": {},
   "outputs": [
    {
     "name": "stdout",
     "output_type": "stream",
     "text": [
      "é௲྄ᝰ㎯\n",
      "0 é 00e9 Ll LATIN SMALL LETTER E WITH ACUTE\n",
      "1 ௲ 0bf2 No TAMIL NUMBER ONE THOUSAND\n",
      "2 ྄ 0f84 Mn TIBETAN MARK HALANTA\n",
      "3 ᝰ 1770 Lo TAGBANWA LETTER SA\n",
      "4 ㎯ 33af So SQUARE RAD OVER S SQUARED\n"
     ]
    }
   ],
   "source": [
    "import unicodedata\n",
    "\n",
    "u = chr(233) + chr(0x0bf2) + chr(3972) + chr(6000) + chr(13231) \n",
    "print(u)\n",
    "\n",
    "for i, c in enumerate(u):\n",
    "    print(i, '{} {:04x} {}'.format(c, ord(c), unicodedata.category(c)), end=\" \")\n",
    "    print(unicodedata.name(c))"
   ]
  },
  {
   "cell_type": "markdown",
   "metadata": {},
   "source": [
    "Véase: https://docs.python.org/3/howto/unicode.html"
   ]
  },
  {
   "cell_type": "markdown",
   "metadata": {},
   "source": [
    "### Asignación múltiple"
   ]
  },
  {
   "cell_type": "code",
   "execution_count": 46,
   "metadata": {},
   "outputs": [],
   "source": [
    "x = y = z = 25"
   ]
  },
  {
   "cell_type": "code",
   "execution_count": 47,
   "metadata": {},
   "outputs": [
    {
     "name": "stdout",
     "output_type": "stream",
     "text": [
      "<class 'int'> <class 'int'> <class 'int'>\n"
     ]
    }
   ],
   "source": [
    "print(type(x), type(y), type(z))"
   ]
  },
  {
   "cell_type": "code",
   "execution_count": 48,
   "metadata": {},
   "outputs": [
    {
     "name": "stdout",
     "output_type": "stream",
     "text": [
      "94039653953600 94039653953600 94039653953600\n"
     ]
    }
   ],
   "source": [
    "print(id(x), id(y), id(z))"
   ]
  },
  {
   "cell_type": "code",
   "execution_count": 49,
   "metadata": {},
   "outputs": [],
   "source": [
    "x, y, z = 'eje x', 'eje y', 50"
   ]
  },
  {
   "cell_type": "code",
   "execution_count": 50,
   "metadata": {},
   "outputs": [
    {
     "name": "stdout",
     "output_type": "stream",
     "text": [
      "<class 'str'> <class 'str'> <class 'int'>\n"
     ]
    }
   ],
   "source": [
    "print(type(x), type(y), type(z))"
   ]
  },
  {
   "cell_type": "code",
   "execution_count": 52,
   "metadata": {},
   "outputs": [
    {
     "name": "stdout",
     "output_type": "stream",
     "text": [
      "139940442340720 139940442339824 94039653954400\n"
     ]
    }
   ],
   "source": [
    "print(id(x), id(y), id(z))"
   ]
  },
  {
   "cell_type": "markdown",
   "metadata": {},
   "source": [
    "### Ejemplos inválidos de etiquetas"
   ]
  },
  {
   "cell_type": "code",
   "execution_count": 53,
   "metadata": {},
   "outputs": [
    {
     "ename": "SyntaxError",
     "evalue": "invalid syntax (<ipython-input-53-596506f13985>, line 1)",
     "output_type": "error",
     "traceback": [
      "\u001b[0;36m  File \u001b[0;32m\"<ipython-input-53-596506f13985>\"\u001b[0;36m, line \u001b[0;32m1\u001b[0m\n\u001b[0;31m    1luis = 20      # No se puede iniciar con un número\u001b[0m\n\u001b[0m     ^\u001b[0m\n\u001b[0;31mSyntaxError\u001b[0m\u001b[0;31m:\u001b[0m invalid syntax\n"
     ]
    }
   ],
   "source": [
    "1luis = 20      # No se puede iniciar con un número"
   ]
  },
  {
   "cell_type": "code",
   "execution_count": 54,
   "metadata": {},
   "outputs": [
    {
     "ename": "SyntaxError",
     "evalue": "invalid syntax (<ipython-input-54-32a886deca9c>, line 1)",
     "output_type": "error",
     "traceback": [
      "\u001b[0;36m  File \u001b[0;32m\"<ipython-input-54-32a886deca9c>\"\u001b[0;36m, line \u001b[0;32m1\u001b[0m\n\u001b[0;31m    luis$ = 8.2323  # No puede contener caractéres especiales\u001b[0m\n\u001b[0m        ^\u001b[0m\n\u001b[0;31mSyntaxError\u001b[0m\u001b[0;31m:\u001b[0m invalid syntax\n"
     ]
    }
   ],
   "source": [
    "luis$ = 8.2323  # No puede contener caractéres especiales"
   ]
  },
  {
   "cell_type": "code",
   "execution_count": 55,
   "metadata": {},
   "outputs": [
    {
     "ename": "SyntaxError",
     "evalue": "invalid syntax (<ipython-input-55-ee47535e9807>, line 1)",
     "output_type": "error",
     "traceback": [
      "\u001b[0;36m  File \u001b[0;32m\"<ipython-input-55-ee47535e9807>\"\u001b[0;36m, line \u001b[0;32m1\u001b[0m\n\u001b[0;31m    for = 35        # Algunos nombre ya están reservados\u001b[0m\n\u001b[0m        ^\u001b[0m\n\u001b[0;31mSyntaxError\u001b[0m\u001b[0;31m:\u001b[0m invalid syntax\n"
     ]
    }
   ],
   "source": [
    "for = 35        # Algunos nombre ya están reservados"
   ]
  },
  {
   "cell_type": "markdown",
   "metadata": {},
   "source": [
    "#### Palabras reservadas "
   ]
  },
  {
   "cell_type": "code",
   "execution_count": 56,
   "metadata": {},
   "outputs": [
    {
     "name": "stdout",
     "output_type": "stream",
     "text": [
      "\n",
      "Here is a list of the Python keywords.  Enter any keyword to get more help.\n",
      "\n",
      "False               class               from                or\n",
      "None                continue            global              pass\n",
      "True                def                 if                  raise\n",
      "and                 del                 import              return\n",
      "as                  elif                in                  try\n",
      "assert              else                is                  while\n",
      "async               except              lambda              with\n",
      "await               finally             nonlocal            yield\n",
      "break               for                 not                 \n",
      "\n"
     ]
    }
   ],
   "source": [
    "help('keywords')"
   ]
  },
  {
   "cell_type": "code",
   "execution_count": null,
   "metadata": {},
   "outputs": [],
   "source": []
  }
 ],
 "metadata": {
  "kernelspec": {
   "display_name": "Python 3",
   "language": "python",
   "name": "python3"
  },
  "language_info": {
   "codemirror_mode": {
    "name": "ipython",
    "version": 3
   },
   "file_extension": ".py",
   "mimetype": "text/x-python",
   "name": "python",
   "nbconvert_exporter": "python",
   "pygments_lexer": "ipython3",
   "version": "3.8.5"
  }
 },
 "nbformat": 4,
 "nbformat_minor": 4
}
