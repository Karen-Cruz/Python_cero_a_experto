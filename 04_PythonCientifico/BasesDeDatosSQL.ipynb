{
 "cells": [
  {
   "cell_type": "code",
   "execution_count": 22,
   "metadata": {},
   "outputs": [],
   "source": [
    "import sqlite3\n",
    "connection = sqlite3.connect(\"company.db\")\n",
    "\n",
    "cursor = connection.cursor()\n",
    "\n",
    "# delete \n",
    "cursor.execute(\"\"\"DROP TABLE employee;\"\"\")\n",
    "\n",
    "sql_command = \"\"\"\n",
    "CREATE TABLE employee ( \n",
    "staff_number INTEGER PRIMARY KEY, \n",
    "fname VARCHAR(20), \n",
    "lname VARCHAR(30), \n",
    "gender CHAR(1), \n",
    "joining DATE,\n",
    "birth_date DATE);\"\"\"\n",
    "\n",
    "cursor.execute(sql_command)\n",
    "\n",
    "staff_data = [ (\"William\", \"Shakespeare\", \"m\", \"1961-10-25\"),\n",
    "               (\"Frank\", \"Schiller\", \"m\", \"1955-08-17\"),\n",
    "               (\"Jane\", \"Wall\", \"f\", \"1989-03-14\"),\n",
    "               (\"Luis M\", \"de la Cruz\", \"m\", \"1905-01-01\")]\n",
    "               \n",
    "for p in staff_data:\n",
    "    format_str = \"\"\"INSERT INTO employee (staff_number, fname, lname, gender, birth_date)\n",
    "    VALUES (NULL, \"{first}\", \"{last}\", \"{gender}\", \"{birthdate}\");\"\"\"\n",
    "\n",
    "    sql_command = format_str.format(first=p[0], last=p[1], gender=p[2], birthdate = p[3])\n",
    "    cursor.execute(sql_command)\n",
    "\n",
    "# never forget this, if you want the changes to be saved:\n",
    "connection.commit()\n",
    "\n"
   ]
  },
  {
   "cell_type": "code",
   "execution_count": 23,
   "metadata": {},
   "outputs": [
    {
     "name": "stdout",
     "output_type": "stream",
     "text": [
      "fetchall:\n",
      "(1, 'William', 'Shakespeare', 'm', None, '1961-10-25')\n",
      "(2, 'Frank', 'Schiller', 'm', None, '1955-08-17')\n",
      "(3, 'Jane', 'Wall', 'f', None, '1989-03-14')\n",
      "(4, 'Luis M', 'de la Cruz', 'm', None, '1905-01-01')\n",
      "\n",
      "fetch one:\n",
      "(1, 'William', 'Shakespeare', 'm', None, '1961-10-25')\n"
     ]
    }
   ],
   "source": [
    "cursor.execute(\"SELECT * FROM employee\") \n",
    "print(\"fetchall:\")\n",
    "result = cursor.fetchall() \n",
    "for r in result:\n",
    "    print(r)\n",
    "    \n",
    "cursor.execute(\"SELECT * FROM employee\") \n",
    "print(\"\\nfetch one:\")\n",
    "res = cursor.fetchone() \n",
    "print(res)\n",
    "\n",
    "connection.close()"
   ]
  },
  {
   "cell_type": "code",
   "execution_count": null,
   "metadata": {},
   "outputs": [],
   "source": []
  }
 ],
 "metadata": {
  "kernelspec": {
   "display_name": "Python 3",
   "language": "python",
   "name": "python3"
  },
  "language_info": {
   "codemirror_mode": {
    "name": "ipython",
    "version": 3
   },
   "file_extension": ".py",
   "mimetype": "text/x-python",
   "name": "python",
   "nbconvert_exporter": "python",
   "pygments_lexer": "ipython3",
   "version": "3.6.4"
  }
 },
 "nbformat": 4,
 "nbformat_minor": 2
}
