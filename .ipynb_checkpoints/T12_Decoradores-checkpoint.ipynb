{
 "cells": [
  {
   "cell_type": "markdown",
   "metadata": {},
   "source": [
    "# Python de cero a experto\n",
    "**Autor:** Luis Miguel de la Cruz Salas\n",
    "\n",
    "<a href=\"https://github.com/luiggix/Python_cero_a_experto\">Python de cero a experto</a> by Luis M. de la Cruz Salas is licensed under <a href=\"https://creativecommons.org/licenses/by-nc-nd/4.0?ref=chooser-v1\">Attribution-NonCommercial-NoDerivatives 4.0 International</a>"
   ]
  },
  {
   "cell_type": "markdown",
   "metadata": {},
   "source": [
    "## Pythonico es más bonito: Pensando como pythonista (intermedio)"
   ]
  },
  {
   "cell_type": "markdown",
   "metadata": {},
   "source": [
    "### Decoradores\n",
    "\n",
    "- Se denomina decorador a la persona dedicada a diseñar el interior de oficinas, viviendas o establecimientos comerciales con criterios estéticos y funcionales. <br>\n",
    "- Un decorador es un objeto de Python usado para modificar una función. <br>\n",
    "- Los decoradores son herramientas bonitas y útiles de Python. <br>\n",
    "\n",
    "#### Ejemplo 1.\n",
    "\n",
    "Pornele una envoltura (*wrap*) para regalo a una función que imprime un texto."
   ]
  },
  {
   "cell_type": "code",
   "execution_count": 7,
   "metadata": {},
   "outputs": [
    {
     "name": "stdout",
     "output_type": "stream",
     "text": [
      "     Hola mundo     \n"
     ]
    }
   ],
   "source": [
    "from termcolor import colored\n",
    "\n",
    "# Esta función contiene funciones anidadas, las cuales son las que \n",
    "# decoran a la función que se recibe como parámetro.\n",
    "def miDecorador(f):\n",
    "\n",
    "    # La función que hace el decorado.\n",
    "    def envoltura():\n",
    "        linea = '-' * 20\n",
    "        print(colored('.'+ linea + '.','blue'))\n",
    "        f()\n",
    "        print(colored('.'+ linea + '.','green'))\n",
    "    return envoltura\n",
    "\n",
    "# Una función cualquiera.\n",
    "def funcionX():\n",
    "    print('{:^20}'.format('Hola mundo'))\n",
    "\n",
    "# Ejecutando la función de manera normal.\n",
    "funcionX() \n",
    "\n",
    "# Decorando la función.\n",
    "#funcionX = miDecorador(funcionX) # Funcion decorada\n",
    "\n",
    "# Ahora se ejecuta la función decorada.\n",
    "#funcionX()\n",
    "\n",
    "# Otra manera de decorar una función.\n",
    "#@miDecorador\n",
    "#def funcionY():\n",
    "#    print('{:<20}'.format('Hola Pythonistas'))\n",
    "\n",
    "# La ejecución después del decorado.\n",
    "#funcionY()\n"
   ]
  },
  {
   "cell_type": "markdown",
   "metadata": {},
   "source": [
    "#### Ejemplo 2.\n",
    "\n",
    "Calcular el seno y coseno de un número y *colorear* el resultado."
   ]
  },
  {
   "cell_type": "code",
   "execution_count": 8,
   "metadata": {},
   "outputs": [
    {
     "name": "stdout",
     "output_type": "stream",
     "text": [
      "\u001b[34m.---------------------------------------------------------------.\u001b[0m\n",
      "\u001b[34m| \u001b[0m\u001b[1m\u001b[31msin\u001b[0m(3.141596) = -3.3464102065883993e-06\n",
      "\u001b[32m.---------------------------------------------------------------.\u001b[0m\n",
      "\u001b[34m.-----------------------------------------------------------.\u001b[0m\n",
      "\u001b[34m| \u001b[0m\u001b[1m\u001b[31mcos\u001b[0m(3.141596) = -0.9999999999944008\n",
      "\u001b[32m.-----------------------------------------------------------.\u001b[0m\n"
     ]
    }
   ],
   "source": [
    "from termcolor import colored\n",
    "\n",
    "def miColoreador(f):\n",
    "\n",
    "    def coloreado(x):\n",
    "        res = colored('| ', 'blue') \n",
    "        res += colored(f.__name__, 'red', attrs=['bold']) \n",
    "        res += '(' + str(x) + ') = ' + str(f(x))\n",
    "        n = len(res)\n",
    "        linea = '-' * n\n",
    "        \n",
    "        print(colored('.'+ linea + '.','blue'))\n",
    "        print(res)\n",
    "        print(colored('.'+ linea + '.','green'))\n",
    "    return coloreado\n",
    "\n",
    "from math import sin, cos\n",
    "\n",
    "sin = miColoreador(sin)\n",
    "cos = miColoreador(cos)\n",
    "\n",
    "for f in [sin, cos]:\n",
    "    f(3.141596)\n"
   ]
  },
  {
   "cell_type": "markdown",
   "metadata": {},
   "source": [
    "#### Ejemplo 3.\n",
    "\n",
    "Decorar funciones con un número variable de argumentos."
   ]
  },
  {
   "cell_type": "code",
   "execution_count": 9,
   "metadata": {},
   "outputs": [
    {
     "name": "stdout",
     "output_type": "stream",
     "text": [
      "\u001b[34m.----------.\u001b[0m\n",
      "\u001b[34m| \u001b[0m\u001b[1mrandom\u001b[0m(\u001b[1m\u001b[31m()\u001b[0m) =  0.3509088342031762\n",
      "\u001b[32m.----------.\u001b[0m\n",
      "\u001b[34m.----------.\u001b[0m\n",
      "\u001b[34m| \u001b[0m\u001b[1mrandint\u001b[0m(\u001b[1m\u001b[31m(3, 8)\u001b[0m) =  5\n",
      "\u001b[32m.----------.\u001b[0m\n",
      "\u001b[34m.----------.\u001b[0m\n",
      "\u001b[34m| \u001b[0m\u001b[1mchoice\u001b[0m(\u001b[1m\u001b[31m([4, 5, 6],)\u001b[0m) =  6\n",
      "\u001b[32m.----------.\u001b[0m\n"
     ]
    }
   ],
   "source": [
    "from random import random, randint, choice\n",
    "\n",
    "def otroDecorador(f):\n",
    "    def envoltura(*args, **kwargs):\n",
    "        cadena = colored('| ', 'blue') \n",
    "        cadena += colored(f.__name__, attrs=['bold']) \n",
    "        cadena += '(' + colored(str(args),'red',attrs=['bold']) + ') = ' \n",
    "        linea = '-' * 10\n",
    "        print(colored('.'+ linea + '.','blue'))\n",
    "        res = f(*args, **kwargs)\n",
    "        print(cadena, res)\n",
    "        print(colored('.'+ linea + '.','green'))\n",
    "        \n",
    "    return envoltura\n",
    "\n",
    "random = otroDecorador(random)\n",
    "randint = otroDecorador(randint)\n",
    "choice = otroDecorador(choice)\n",
    "\n",
    "random()\n",
    "randint(3, 8)\n",
    "choice([4, 5, 6])"
   ]
  },
  {
   "cell_type": "markdown",
   "metadata": {},
   "source": [
    "#### Ejemplo 4.\n",
    "\n",
    "Crear un decorador que calcule el tiempo de ejecución de una función."
   ]
  },
  {
   "cell_type": "code",
   "execution_count": 12,
   "metadata": {},
   "outputs": [
    {
     "name": "stdout",
     "output_type": "stream",
     "text": [
      "\n",
      "La suma es: 49995000\n",
      "Elapsed time: 0.0012191109999548644\n",
      "\n"
     ]
    }
   ],
   "source": [
    "import time\n",
    "\n",
    "def crono(f):\n",
    "    \"\"\"\n",
    "    Regresa el tiempo que toma en ejecutarse la funcion.\n",
    "    \"\"\"\n",
    "    def tiempo():\n",
    "        t1 = time.perf_counter()\n",
    "        f()\n",
    "        t2 = time.perf_counter()\n",
    "        return 'Elapsed time: ' + str((t2 - t1)) + \"\\n\"\n",
    "    return tiempo\n",
    "\n",
    "@crono\n",
    "def miFuncion():\n",
    "    numeros = []\n",
    "    for num in (range(0, 10000)):\n",
    "        numeros.append(num)\n",
    "    print('\\nLa suma es: ' + str((sum(numeros))))\n",
    "\n",
    "print(miFuncion())\n"
   ]
  },
  {
   "cell_type": "markdown",
   "metadata": {},
   "source": [
    "#### Ejemplo 5.\n",
    "\n",
    "Detener la ejecución por un tiempo antes que una función sea ejecutada."
   ]
  },
  {
   "cell_type": "code",
   "execution_count": 13,
   "metadata": {},
   "outputs": [
    {
     "name": "stdout",
     "output_type": "stream",
     "text": [
      "222\n",
      "1 2 3 4 5 \n",
      " --> happy finish!\n"
     ]
    }
   ],
   "source": [
    "from time import sleep\n",
    "\n",
    "def sleepDecorador(function):\n",
    "\n",
    "    def duerme(*args, **kwargs):\n",
    "        sleep(2)\n",
    "        return function(*args, **kwargs)\n",
    "    return duerme\n",
    "\n",
    "\n",
    "@sleepDecorador\n",
    "def imprimeNumero(num):\n",
    "    return num\n",
    "\n",
    "print(imprimeNumero(222))\n",
    "\n",
    "for num in range(1, 6):\n",
    "    print(imprimeNumero(num), end = ' ')\n",
    "\n",
    "print('\\n --> happy finish!')"
   ]
  },
  {
   "cell_type": "markdown",
   "metadata": {},
   "source": [
    "#### Ejemplo 6.\n",
    "\n",
    "Crear un decorador que cheque que el argumento de una función que calcula el factorial, sea un entero positivo."
   ]
  },
  {
   "cell_type": "code",
   "execution_count": 14,
   "metadata": {},
   "outputs": [
    {
     "name": "stdout",
     "output_type": "stream",
     "text": [
      "1 1\n",
      "2 2\n",
      "3 6\n",
      "4 24\n",
      "5 120\n",
      "6 720\n",
      "7 5040\n",
      "8 40320\n",
      "9 362880\n"
     ]
    },
    {
     "ename": "Exception",
     "evalue": "El argumento no es un entero positivo",
     "output_type": "error",
     "traceback": [
      "\u001b[0;31m---------------------------------------------------------------------------\u001b[0m",
      "\u001b[0;31mException\u001b[0m                                 Traceback (most recent call last)",
      "\u001b[0;32m<ipython-input-14-361e6a8a4bdd>\u001b[0m in \u001b[0;36m<module>\u001b[0;34m\u001b[0m\n\u001b[1;32m     17\u001b[0m     \u001b[0mprint\u001b[0m\u001b[0;34m(\u001b[0m\u001b[0mi\u001b[0m\u001b[0;34m,\u001b[0m \u001b[0mfactorial\u001b[0m\u001b[0;34m(\u001b[0m\u001b[0mi\u001b[0m\u001b[0;34m)\u001b[0m\u001b[0;34m)\u001b[0m\u001b[0;34m\u001b[0m\u001b[0;34m\u001b[0m\u001b[0m\n\u001b[1;32m     18\u001b[0m \u001b[0;34m\u001b[0m\u001b[0m\n\u001b[0;32m---> 19\u001b[0;31m \u001b[0mprint\u001b[0m\u001b[0;34m(\u001b[0m\u001b[0mfactorial\u001b[0m\u001b[0;34m(\u001b[0m\u001b[0;34m-\u001b[0m\u001b[0;36m1\u001b[0m\u001b[0;34m)\u001b[0m\u001b[0;34m)\u001b[0m\u001b[0;34m\u001b[0m\u001b[0;34m\u001b[0m\u001b[0m\n\u001b[0m",
      "\u001b[0;32m<ipython-input-14-361e6a8a4bdd>\u001b[0m in \u001b[0;36mchecador\u001b[0;34m(x)\u001b[0m\n\u001b[1;32m      4\u001b[0m             \u001b[0;32mreturn\u001b[0m \u001b[0mf\u001b[0m\u001b[0;34m(\u001b[0m\u001b[0mx\u001b[0m\u001b[0;34m)\u001b[0m\u001b[0;34m\u001b[0m\u001b[0;34m\u001b[0m\u001b[0m\n\u001b[1;32m      5\u001b[0m         \u001b[0;32melse\u001b[0m\u001b[0;34m:\u001b[0m\u001b[0;34m\u001b[0m\u001b[0;34m\u001b[0m\u001b[0m\n\u001b[0;32m----> 6\u001b[0;31m             \u001b[0;32mraise\u001b[0m \u001b[0mException\u001b[0m\u001b[0;34m(\u001b[0m\u001b[0;34m\"El argumento no es un entero positivo\"\u001b[0m\u001b[0;34m)\u001b[0m\u001b[0;34m\u001b[0m\u001b[0;34m\u001b[0m\u001b[0m\n\u001b[0m\u001b[1;32m      7\u001b[0m     \u001b[0;32mreturn\u001b[0m \u001b[0mchecador\u001b[0m\u001b[0;34m\u001b[0m\u001b[0;34m\u001b[0m\u001b[0m\n\u001b[1;32m      8\u001b[0m \u001b[0;34m\u001b[0m\u001b[0m\n",
      "\u001b[0;31mException\u001b[0m: El argumento no es un entero positivo"
     ]
    }
   ],
   "source": [
    "def checaArgumento(f):\n",
    "    def checador(x):\n",
    "        if type(x) == int and x > 0:\n",
    "            return f(x)\n",
    "        else:\n",
    "            raise Exception(\"El argumento no es un entero positivo\")\n",
    "    return checador\n",
    "\n",
    "@checaArgumento\n",
    "def factorial(n):\n",
    "    if n == 1:\n",
    "        return 1\n",
    "    else:\n",
    "        return n * factorial(n-1)\n",
    "    \n",
    "for i in range(1,10):\n",
    "    print(i, factorial(i))\n",
    "    \n",
    "print(factorial(-1))"
   ]
  },
  {
   "cell_type": "markdown",
   "metadata": {},
   "source": [
    "#### Ejemplo 7.\n",
    "\n",
    "Contar el número de llamadas de una función"
   ]
  },
  {
   "cell_type": "code",
   "execution_count": 16,
   "metadata": {},
   "outputs": [
    {
     "name": "stdout",
     "output_type": "stream",
     "text": [
      "0\n",
      "4\n",
      "3\n"
     ]
    }
   ],
   "source": [
    "def contadorDeLlamadas(func):\n",
    "    def cuenta(*args, **kwargs):\n",
    "        cuenta.calls += 1\n",
    "        return func(*args, **kwargs)\n",
    "    cuenta.calls = 0\n",
    "    return cuenta\n",
    "\n",
    "@contadorDeLlamadas\n",
    "def suma(x):\n",
    "    return x + 1\n",
    "\n",
    "@contadorDeLlamadas\n",
    "def mulp1(x, y=1):\n",
    "    return x*y + 1\n",
    "\n",
    "print(suma.calls)\n",
    "\n",
    "for i in range(4):\n",
    "    suma(i)\n",
    "    \n",
    "mulp1(1, 2)\n",
    "mulp1(5)\n",
    "mulp1(y=2, x=25)\n",
    "\n",
    "print(suma.calls)\n",
    "print(mulp1.calls)"
   ]
  },
  {
   "cell_type": "markdown",
   "metadata": {},
   "source": [
    "#### Ejemplo 8.\n",
    "\n",
    "Decorar una función con diferentes saludos."
   ]
  },
  {
   "cell_type": "code",
   "execution_count": 17,
   "metadata": {},
   "outputs": [
    {
     "name": "stdout",
     "output_type": "stream",
     "text": [
      "Hola, buenas tardes, son las 3 pm\n",
      "Hola, buenos días, son las 8 am\n"
     ]
    }
   ],
   "source": [
    "def buenasTardes(func):\n",
    "    def saludo(x):\n",
    "        print(\"Hola, buenas tardes, \", end='')\n",
    "        func(x)\n",
    "    return saludo\n",
    "\n",
    "def buenosDias(func):\n",
    "    def saludo(x):\n",
    "        print(\"Hola, buenos días, \", end='')\n",
    "        func(x)\n",
    "    return saludo\n",
    "\n",
    "@buenasTardes\n",
    "def mensaje1(hora):\n",
    "    print(\"son las \" + hora)\n",
    "\n",
    "mensaje1(\"3 pm\")\n",
    "\n",
    "@buenosDias\n",
    "def mensaje2(hora):\n",
    "    print(\"son las \" + hora)\n",
    "    \n",
    "mensaje2(\"8 am\")"
   ]
  },
  {
   "cell_type": "markdown",
   "metadata": {},
   "source": [
    "#### Ejemplo 9. (decorador con parámetros)\n",
    "\n",
    "El ejemplo anterior se puede realizar como sigue:"
   ]
  },
  {
   "cell_type": "code",
   "execution_count": 18,
   "metadata": {},
   "outputs": [
    {
     "name": "stdout",
     "output_type": "stream",
     "text": [
      "Hola, buenas tardes, son las 3 pm\n",
      "Hola, buenos días, son las 8 am\n",
      "καλημερα  <--- en griego  :D \n"
     ]
    }
   ],
   "source": [
    "def saludo(expr):\n",
    "    def saludoDecorador(func):\n",
    "        def saludoGenerico(x):\n",
    "            print(expr, end='')\n",
    "            func(x)\n",
    "        return saludoGenerico\n",
    "    return saludoDecorador\n",
    "\n",
    "@saludo(\"Hola, buenas tardes, \")\n",
    "def mensaje1(hora):\n",
    "    print(\"son las \" + hora)\n",
    "\n",
    "mensaje1(\"3 pm\")\n",
    "\n",
    "@saludo(\"Hola, buenos días, \")\n",
    "def mensaje2(hora):\n",
    "    print(\"son las \" + hora)\n",
    "    \n",
    "mensaje2(\"8 am\")\n",
    "\n",
    "@saludo(\"καλημερα \")\n",
    "def mensaje3(hora):\n",
    "    print(\" <--- en griego \" + hora)\n",
    "    \n",
    "mensaje3(\" :D \")"
   ]
  },
  {
   "cell_type": "code",
   "execution_count": null,
   "metadata": {},
   "outputs": [],
   "source": []
  }
 ],
 "metadata": {
  "kernelspec": {
   "display_name": "Python 3",
   "language": "python",
   "name": "python3"
  },
  "language_info": {
   "codemirror_mode": {
    "name": "ipython",
    "version": 3
   },
   "file_extension": ".py",
   "mimetype": "text/x-python",
   "name": "python",
   "nbconvert_exporter": "python",
   "pygments_lexer": "ipython3",
   "version": "3.8.5"
  }
 },
 "nbformat": 4,
 "nbformat_minor": 4
}
