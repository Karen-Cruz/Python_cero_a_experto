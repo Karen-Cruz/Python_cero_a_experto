{
 "cells": [
  {
   "cell_type": "markdown",
   "metadata": {},
   "source": [
    "# Python de cero a experto\n",
    "**Autor:** Luis Miguel de la Cruz Salas\n",
    "\n",
    "<a href=\"https://github.com/luiggix/Python_cero_a_experto\">Python de cero a experto</a> by Luis M. de la Cruz Salas is licensed under <a href=\"https://creativecommons.org/licenses/by-nc-nd/4.0?ref=chooser-v1\">Attribution-NonCommercial-NoDerivatives 4.0 International</a>\n",
    "\n",
    "\n",
    "**Objetivos.**\n",
    "..."
   ]
  },
  {
   "cell_type": "markdown",
   "metadata": {},
   "source": [
    "## El huevo cocido perfecto\n",
    "\n",
    "¿Cuál es el tiempo ideal para cocinar un huevo?\n",
    "\n",
    "<img src=\"./Figuras/Huevo_cocido.jpg\"  style=\"width: 300px;\"/>\n",
    "\n",
    "\n",
    "Para lograr un **huevo cocido** suave, la clara debe haberse calentado el tiempo suficiente para coagular a una temperatura superior a 63 $^o$C, pero la yema no debe calentarse por encima de 70 $^o$C.\n",
    "\n",
    "Para lograr un **huevo duro**, el centro de la yema debe de alcanzar los 70 $^o$C.\n",
    "\n",
    "### Fórmula para calcular el tiempo de cocción.\n",
    "La siguiente fórmula expresa el tiempo $t$, en segundos, que le toma a la yema alcanzar la temperatura $T_y$, en grados Celsius.\n",
    "\n",
    "$$t = \\dfrac{M^{2/3} c \\rho^{1/3}}{K \\pi^2 (4\\pi/3)^{2/3}} \\ln \\left[ 0.76 \\dfrac{T_o - T_w}{T_y - T_w}\\right]$$\n",
    "\n",
    "donde las propiedades son:\n",
    "\n",
    "- $M$ masa; \n",
    "- $\\rho$ densidad; \n",
    "- $c$ capacidad calorífica específica; \n",
    "- $K$ conductividad térmica; \n",
    "- $T_w$ es la temperatura de ebullición del agua;\n",
    "- $T_o$ es la temperatura original del huevo antes de meterlo al agua;\n",
    "- $T_y$ es la temperatura que debe alcanzar la yema."
   ]
  },
  {
   "cell_type": "markdown",
   "metadata": {},
   "source": [
    "### Ejercicio 1.\n",
    "Calcular el tiempo de cocción necesario para un huevo duro pequeño de 47 g \n",
    "(la masa de un huevo grande es 67 g), para cuando la temperatura inicial \n",
    "del huevo es:\n",
    "1. Temperatura ambiente: $T_o$ = 20 $^o$C.\n",
    "2. Temperatura en el refrigerador: $T_o$ = 4 $^o$C.\n",
    "\n",
    "**Datos**:\n",
    "- $M$ = 47 g \n",
    "- $\\rho$ = 1.038 g / cm$^3$\n",
    "- $c$ = 3.7 J / g K\n",
    "- $K$ = 5.4 $\\times 10^{-3}$ W / cm K\n",
    "- $T_w$ = 100 $^o$C\n",
    "- $T_y$ = 70 $^o$C"
   ]
  },
  {
   "cell_type": "markdown",
   "metadata": {},
   "source": [
    "**<font color=\"#126534\">SOLUCIÓN.</font>**<br>\n",
    "Primera parte de la fórmula: $M^{2/3} c \\rho^{1/3}$"
   ]
  },
  {
   "cell_type": "code",
   "execution_count": 38,
   "metadata": {},
   "outputs": [
    {
     "name": "stdout",
     "output_type": "stream",
     "text": [
      "<class 'int'> <class 'float'> <class 'float'>\n",
      "93857122751232 139885541568848 139885541569328\n",
      "47 1.038 3.7\n"
     ]
    }
   ],
   "source": [
    "# Definir los datos iniciales\n",
    "M   = 47    # Un entero\n",
    "rho = 1.038 # Un flotante\n",
    "c   = 3.7   # Otro flotante\n",
    "\n",
    "print(type(M), type(rho), type(c))\n",
    "print(id(M), id(rho), id(c))\n",
    "print(M, rho, c)"
   ]
  },
  {
   "cell_type": "code",
   "execution_count": 39,
   "metadata": {},
   "outputs": [
    {
     "data": {
      "text/plain": [
       "48.790216719661984"
      ]
     },
     "execution_count": 39,
     "metadata": {},
     "output_type": "execute_result"
    }
   ],
   "source": [
    "numerador = M**(2/3) * c * rho**(1/3)\n",
    "numerador"
   ]
  },
  {
   "cell_type": "markdown",
   "metadata": {},
   "source": [
    "**Revisar**: <a href=\"./T01_Etiquetas_y_Palabras_Reservadas.ipynb\">Etiquetas y palabras reservadas </a>"
   ]
  },
  {
   "cell_type": "markdown",
   "metadata": {},
   "source": [
    "Podríamos usar caracteres matemáticos:"
   ]
  },
  {
   "cell_type": "code",
   "execution_count": 40,
   "metadata": {},
   "outputs": [
    {
     "name": "stdout",
     "output_type": "stream",
     "text": [
      "𝜌\n"
     ]
    }
   ],
   "source": [
    "print(chr(0x1D70C))"
   ]
  },
  {
   "cell_type": "code",
   "execution_count": 41,
   "metadata": {},
   "outputs": [],
   "source": [
    "𝜌 = 1.038"
   ]
  },
  {
   "cell_type": "code",
   "execution_count": 42,
   "metadata": {},
   "outputs": [
    {
     "data": {
      "text/plain": [
       "48.790216719661984"
      ]
     },
     "execution_count": 42,
     "metadata": {},
     "output_type": "execute_result"
    }
   ],
   "source": [
    "M**(2/3) * c * 𝜌**(1/3)"
   ]
  },
  {
   "cell_type": "markdown",
   "metadata": {},
   "source": [
    "**Revisar**: <a href=\"./T02_Expr_Decla_Tipos_Oper.ipynb\">Expresiones, Declaraciones, Tipos y Operadores</a>"
   ]
  },
  {
   "cell_type": "markdown",
   "metadata": {},
   "source": [
    "Segunda parte de la fórmula: $K \\pi^2 (4\\pi/3)^{2/3}$"
   ]
  },
  {
   "cell_type": "code",
   "execution_count": 43,
   "metadata": {},
   "outputs": [],
   "source": [
    "# Denominador, necesitamos el valor de Pi.\n",
    "import math\n",
    "# Se puede importar la biblioteca math y ponerle otro nombre \n",
    "#import math as m \n",
    "# Se puede importat solo una función de la biblioteca y ponerle un nombre\n",
    "#from math import sinh as senoHiperbolico"
   ]
  },
  {
   "cell_type": "code",
   "execution_count": 44,
   "metadata": {},
   "outputs": [],
   "source": [
    "K = 5.4e-3\n",
    "denominador = K * math.pi**2 * (4 * math.pi / 3)**(2/3)"
   ]
  },
  {
   "cell_type": "code",
   "execution_count": 45,
   "metadata": {},
   "outputs": [
    {
     "name": "stdout",
     "output_type": "stream",
     "text": [
      "0.13849026450902358\n"
     ]
    }
   ],
   "source": [
    "print(denominador)"
   ]
  },
  {
   "cell_type": "code",
   "execution_count": 46,
   "metadata": {},
   "outputs": [
    {
     "data": {
      "text/plain": [
       "'π'"
      ]
     },
     "execution_count": 46,
     "metadata": {},
     "output_type": "execute_result"
    }
   ],
   "source": [
    "chr(0x03C0)"
   ]
  },
  {
   "cell_type": "code",
   "execution_count": 47,
   "metadata": {},
   "outputs": [
    {
     "data": {
      "text/plain": [
       "0.13849026450902358"
      ]
     },
     "execution_count": 47,
     "metadata": {},
     "output_type": "execute_result"
    }
   ],
   "source": [
    "π = math.pi\n",
    "K * π**2 * (4 * π / 3)**(2/3)"
   ]
  },
  {
   "cell_type": "markdown",
   "metadata": {},
   "source": [
    "Tercera parte de la fórmula: $\\ln \\left[ 0.76 \\dfrac{T_o - T_w}{T_y - T_w}\\right]$\n",
    "\n",
    "**Caso 1.**<br>\n",
    "$T_o$ = 20 $^o$C."
   ]
  },
  {
   "cell_type": "code",
   "execution_count": 48,
   "metadata": {},
   "outputs": [],
   "source": [
    "To = 20  # Temp. ambiente\n",
    "Tw = 100\n",
    "Ty = 70"
   ]
  },
  {
   "cell_type": "code",
   "execution_count": 49,
   "metadata": {},
   "outputs": [],
   "source": [
    "logaritmo = math.log(0.76 * (To - Tw) / (Ty - Tw))"
   ]
  },
  {
   "cell_type": "markdown",
   "metadata": {},
   "source": [
    "Fórmula completa:"
   ]
  },
  {
   "cell_type": "code",
   "execution_count": 50,
   "metadata": {},
   "outputs": [
    {
     "name": "stdout",
     "output_type": "stream",
     "text": [
      "248.86253747844736\n"
     ]
    }
   ],
   "source": [
    "t = numerador / denominador * logaritmo\n",
    "print(t)"
   ]
  },
  {
   "cell_type": "markdown",
   "metadata": {},
   "source": [
    "**Caso 2.**<br>\n",
    "$T_o$ = 4 $^o$C."
   ]
  },
  {
   "cell_type": "code",
   "execution_count": 51,
   "metadata": {},
   "outputs": [],
   "source": [
    "To = 4  # Temp. ambiente\n",
    "Tw = 100\n",
    "Ty = 70"
   ]
  },
  {
   "cell_type": "code",
   "execution_count": 52,
   "metadata": {},
   "outputs": [],
   "source": [
    "logaritmo = math.log(0.76 * (To - Tw) / (Ty - Tw))"
   ]
  },
  {
   "cell_type": "code",
   "execution_count": 53,
   "metadata": {},
   "outputs": [
    {
     "name": "stdout",
     "output_type": "stream",
     "text": [
      "313.09454902221637\n"
     ]
    }
   ],
   "source": [
    "t = numerador / denominador * logaritmo\n",
    "print(t)"
   ]
  },
  {
   "cell_type": "markdown",
   "metadata": {},
   "source": [
    "### Ejercicio 2.\n",
    "Imprimir el tiempo de los casos del ejercicio 1 en el siguiente formato usando *cadenas*:<br>\n",
    " `El tiempo de cocción óptimo es: 313.1 [s] (5.2 [m])`"
   ]
  },
  {
   "cell_type": "code",
   "execution_count": 72,
   "metadata": {},
   "outputs": [],
   "source": [
    "To = 4\n",
    "logaritmo = math.log(0.76 * (To - Tw) / (Ty - Tw))\n",
    "t1 = numerador /denominador * logaritmo\n",
    "\n",
    "To = 20\n",
    "logaritmo = math.log(0.76 * (To - Tw) / (Ty - Tw))\n",
    "t2 = numerador /denominador * logaritmo"
   ]
  },
  {
   "cell_type": "code",
   "execution_count": 77,
   "metadata": {},
   "outputs": [
    {
     "name": "stdout",
     "output_type": "stream",
     "text": [
      "El tiempo de cocción óptimo es: 313.09454902221637  [s] ( 5.218242483703606  [m])\n",
      "El tiempo de cocción óptimo es: 248.86253747844736  [s] ( 4.147708957974123  [m])\n"
     ]
    }
   ],
   "source": [
    "print('El tiempo de cocción óptimo es:', t1,' [s] (', t1/60, ' [m])')\n",
    "print('El tiempo de cocción óptimo es:', t2,' [s] (', t2/60, ' [m])')"
   ]
  },
  {
   "cell_type": "code",
   "execution_count": 78,
   "metadata": {},
   "outputs": [
    {
     "name": "stdout",
     "output_type": "stream",
     "text": [
      "El tiempo de cocción óptimo es: 313.09454902221637 [s] (313.09454902221637 [m])\n",
      "El tiempo de cocción óptimo es: 248.86253747844736 [s] (248.86253747844736 [m])\n"
     ]
    }
   ],
   "source": [
    "cadena1 = 'El tiempo de cocción óptimo es: '\n",
    "cadena2 = str(t1) + ' [s] (' + str(t1) + ' [m])'\n",
    "cadena3 = str(t2) + ' [s] (' + str(t2) + ' [m])'\n",
    "print(cadena1 + cadena2)\n",
    "print(cadena1 + cadena3)"
   ]
  },
  {
   "cell_type": "code",
   "execution_count": 80,
   "metadata": {},
   "outputs": [
    {
     "name": "stdout",
     "output_type": "stream",
     "text": [
      "El tiempo de cocción óptimo es: 313.09454902221637 [s] ( 5.218242483703606 [m])\n",
      "El tiempo de cocción óptimo es: 248.86253747844736 [s] ( 4.147708957974123 [m])\n"
     ]
    }
   ],
   "source": [
    "cadena2 = '{} [s] ( {} [m])'.format(t1, t1/60)\n",
    "cadena3 = '{} [s] ( {} [m])'.format(t2, t2/60)\n",
    "print(cadena1 + cadena2)\n",
    "print(cadena1 + cadena3)"
   ]
  },
  {
   "cell_type": "code",
   "execution_count": 83,
   "metadata": {},
   "outputs": [
    {
     "name": "stdout",
     "output_type": "stream",
     "text": [
      "El tiempo de cocción óptimo es: 313.1 [s] ( 5.2 [m])\n",
      "El tiempo de cocción óptimo es: 248.9 [s] ( 4.1 [m])\n"
     ]
    }
   ],
   "source": [
    "cadena2 = '{:.1f} [s] ( {:.1f} [m])'.format(t1, t1/60)\n",
    "cadena3 = '{:.1f} [s] ( {:.1f} [m])'.format(t2, t2/60)\n",
    "print(cadena1 + cadena2)\n",
    "print(cadena1 + cadena3)"
   ]
  },
  {
   "cell_type": "code",
   "execution_count": 84,
   "metadata": {},
   "outputs": [
    {
     "name": "stdout",
     "output_type": "stream",
     "text": [
      "El tiempo de cocción óptimo es: 313.1 [s] (5.2 [m])\n",
      "El tiempo de cocción óptimo es: 248.9 [s] (4.1 [m])\n"
     ]
    }
   ],
   "source": [
    "print('El tiempo de cocción óptimo es: {:0.1f} [s] ({:0.1f} [m])'.format(t1, t1/60))\n",
    "print('El tiempo de cocción óptimo es: {:0.1f} [s] ({:0.1f} [m])'.format(t2, t2/60))"
   ]
  },
  {
   "cell_type": "markdown",
   "metadata": {},
   "source": [
    "### Ejercicio 3.\n",
    "Hacer una lista de tiempos de cocción para temperaturas de huevos, desde la que se tiene en el refrigerador hasta temperatura ambiente, en pasos de 1$^o$C.\n",
    "- Imprimir dos columnas: temperatura y tiempo.\n",
    "- Imprimir los tiempos en minutos y segundos.\n",
    "- Imprimir un encabezado para identificar las columnas."
   ]
  },
  {
   "cell_type": "code",
   "execution_count": null,
   "metadata": {},
   "outputs": [],
   "source": []
  },
  {
   "cell_type": "markdown",
   "metadata": {},
   "source": [
    "<a href=\"./T03_Estructura_de_Datos.ipynb\">Estructura de datos</a>"
   ]
  },
  {
   "cell_type": "markdown",
   "metadata": {},
   "source": [
    "<a href=\"./T04_Control_de_flujo.ipynb\">Control de flujo</a>"
   ]
  },
  {
   "cell_type": "markdown",
   "metadata": {},
   "source": [
    "**<font color=\"#126534\">SOLUCIÓN.</font>**<br>\n",
    "Recordemos la fórmula $$t = \\dfrac{M^{2/3} c \\rho^{1/3}}{K \\pi^2 (4\\pi/3)^{2/3}} \\ln \\left[ 0.76 \\dfrac{T_o - T_w}{T_y - T_w}\\right]$$\n",
    "\n",
    "`numerador` = $M^{2/3} c \\rho^{1/3}$\n",
    "\n",
    "`denominador` = $K \\pi^2 (4\\pi/3)^{2/3}$\n",
    "\n",
    "`logaritmo` = $ln \\left[ 0.76 \\dfrac{T_o - T_w}{T_y - T_w}\\right]$\n",
    "\n",
    "Observamos que lo único que cambia es `logaritmo`."
   ]
  },
  {
   "cell_type": "code",
   "execution_count": 68,
   "metadata": {},
   "outputs": [
    {
     "name": "stdout",
     "output_type": "stream",
     "text": [
      "4\n",
      "5\n",
      "6\n",
      "7\n",
      "8\n",
      "9\n",
      "10\n",
      "11\n",
      "12\n",
      "13\n",
      "14\n",
      "15\n",
      "16\n",
      "17\n",
      "18\n",
      "19\n"
     ]
    }
   ],
   "source": [
    "for To in range(4, 20):\n",
    "    print(To)"
   ]
  },
  {
   "cell_type": "code",
   "execution_count": 69,
   "metadata": {},
   "outputs": [
    {
     "name": "stdout",
     "output_type": "stream",
     "text": [
      "313.09454902221637\n",
      "309.4055027800624\n",
      "305.67741828677\n",
      "301.9094604759048\n",
      "298.100767196758\n",
      "294.2504480302776\n",
      "290.3575830395756\n",
      "286.42122145062837\n",
      "282.44038025843554\n",
      "278.4140427535251\n",
      "274.34115696328047\n",
      "270.22063400211084\n",
      "266.05134632399177\n",
      "261.83212587036\n",
      "257.5617621057524\n",
      "253.23899993292162\n",
      "248.86253747844736\n"
     ]
    }
   ],
   "source": [
    "for To in range(4, 21):\n",
    "    logaritmo = math.log(0.76 * (To - Tw) / (Ty - Tw))\n",
    "    t = numerador / denominador * logaritmo\n",
    "    print(t)"
   ]
  },
  {
   "cell_type": "code",
   "execution_count": 70,
   "metadata": {},
   "outputs": [
    {
     "name": "stdout",
     "output_type": "stream",
     "text": [
      "4 5.218242483703606\n",
      "5 5.156758379667707\n",
      "6 5.094623638112833\n",
      "7 5.03182434126508\n",
      "8 4.968346119945966\n",
      "9 4.90417413383796\n",
      "10 4.8392930506595935\n",
      "11 4.773687024177139\n",
      "12 4.7073396709739255\n",
      "13 4.640234045892085\n",
      "14 4.572352616054674\n",
      "15 4.503677233368514\n",
      "16 4.434189105399863\n",
      "17 4.363868764506\n",
      "18 4.292696035095873\n",
      "19 4.220649998882027\n",
      "20 4.147708957974123\n"
     ]
    }
   ],
   "source": [
    "for To in range(4, 21):\n",
    "    logaritmo = math.log(0.76 * (To - Tw) / (Ty - Tw))\n",
    "    t = numerador / denominador * logaritmo\n",
    "    print(To, t/60)"
   ]
  },
  {
   "cell_type": "code",
   "execution_count": 71,
   "metadata": {},
   "outputs": [
    {
     "name": "stdout",
     "output_type": "stream",
     "text": [
      "Temperatura \t Tiempo\n",
      " 4 \t\t 5:13\n",
      " 5 \t\t 5:9\n",
      " 6 \t\t 5:5\n",
      " 7 \t\t 5:1\n",
      " 8 \t\t 4:58\n",
      " 9 \t\t 4:54\n",
      " 10 \t\t 4:50\n",
      " 11 \t\t 4:46\n",
      " 12 \t\t 4:42\n",
      " 13 \t\t 4:38\n",
      " 14 \t\t 4:34\n",
      " 15 \t\t 4:30\n",
      " 16 \t\t 4:26\n",
      " 17 \t\t 4:21\n",
      " 18 \t\t 4:17\n",
      " 19 \t\t 4:13\n",
      " 20 \t\t 4:8\n"
     ]
    }
   ],
   "source": [
    "print('Temperatura \\t Tiempo')\n",
    "for To in range(4, 21):\n",
    "    logaritmo = math.log(0.76 * (To - Tw) / (Ty - Tw))\n",
    "    t = numerador / denominador * logaritmo\n",
    "    t_min = int(t / 60)\n",
    "    t_seg = int(t - t_min * 60) \n",
    "    print(' {} \\t\\t {}:{}'.format(To, t_min, t_seg))"
   ]
  },
  {
   "cell_type": "code",
   "execution_count": null,
   "metadata": {},
   "outputs": [],
   "source": []
  },
  {
   "cell_type": "code",
   "execution_count": null,
   "metadata": {},
   "outputs": [],
   "source": [
    "Ts = []\n",
    "ts = []\n",
    "for i in range(4,21):\n",
    "    Ts.append(i)\n",
    "    t = (num1 /den1) * math.log(0.76 * (i - Tw) / (Ty - Tw))\n",
    "    ts.append(t/60)\n",
    "print(Ts)\n",
    "print(ts)"
   ]
  },
  {
   "cell_type": "markdown",
   "metadata": {},
   "source": [
    "### Ejercicio 5:\n",
    "De la lista creada anteriormente determinar que temperatura debería tener el huevo originalmente para que el tiempo de cocción sea de 5 minutos."
   ]
  },
  {
   "cell_type": "code",
   "execution_count": null,
   "metadata": {},
   "outputs": [],
   "source": [
    "# Encontrar el intervalo donde cae el valor de 5 minutos\n",
    "Ip1 = 0 # índice donde se pasa de 5 a menos de 5\n",
    "for i,v in enumerate(ts):\n",
    "    if v < 5.0:\n",
    "        Ip1 = i\n",
    "        print('Tiempos [s]: ts[{}] : {:2.5f}; ts[{}] : {:2.5f}'.format(i-1,ts[i-1],i,v))\n",
    "        print('Temps   [C]: Ts[{}] : {:2.5f}; Ts[{}] : {:2.5f}'.format(i-1,Ts[i-1],i,Ts[i]))\n",
    "        break\n",
    "\n",
    "# Calcular la pendiente:\n",
    "m = (Ts[Ip1] - Ts[Ip1-1]) / (ts[Ip1] - ts[Ip1-1])\n",
    "# Calcular la ordenada al origen:\n",
    "b = Ts[Ip1] - m * ts[Ip1]\n",
    "print('Pendiente : {:2.5f}'.format(m))\n",
    "print('Ordenada  : {:2.5f}'.format(b))\n",
    "\n",
    "# Calcular la temperatura para que la cocción sean 5 minutos\n",
    "tx = 5.0 # 5 minutos en segundos\n",
    "Tx = m * tx + b\n",
    "\n",
    "print('Temperatura del huevo para una cocción de 5 [m] : {} [C]'.format(Tx))"
   ]
  },
  {
   "cell_type": "code",
   "execution_count": null,
   "metadata": {},
   "outputs": [],
   "source": [
    "# Grafica de apoyo\n",
    "import numpy as np\n",
    "import matplotlib.pyplot as plt\n",
    "%matplotlib inline\n",
    "x = np.linspace(0,6,10)\n",
    "plt.plot(x,m*x+b)\n",
    "plt.plot(5,m*5+b,'o')"
   ]
  },
  {
   "cell_type": "markdown",
   "metadata": {},
   "source": [
    "<a href=\"./T05_Entrada_Salida_Archivos.ipynb\">Entrada, Salida y Archivos</a>"
   ]
  },
  {
   "cell_type": "markdown",
   "metadata": {},
   "source": [
    "### Ejercicio 6:\n",
    "Escribir un programa que pregunte al usuario el peso del huevo y crear una lista de temperaturas y una la lista de tiempos de cocción para esas temperaturas; crear un archivo con el nombre \"huevo_m_XX\", donde XX indica el peso del huevo; escribir en el archivo las listas de temperaturas y tiempos."
   ]
  },
  {
   "cell_type": "code",
   "execution_count": null,
   "metadata": {},
   "outputs": [],
   "source": [
    "peso_huevo = input('Dame el peso del huevo:')\n",
    "archivo = open('huevo_m_{}'.format(peso_huevo), 'w')\n",
    "\n",
    "M = float(peso_huevo)\n",
    "num1 = M**(2/3) * c * rho**(1/3)\n",
    "den1 = K * math.pi**2 * (4 * math.pi / 3)**(2/3)\n",
    "\n",
    "for i in range(4,21):\n",
    "    t = (num1 /den1) * math.log(0.76 * (i - Tw) / (Ty - Tw))\n",
    "    archivo.write('{:>3.8f}\\t{:>3.8f}\\n'.format(i,t/60))\n",
    "    \n",
    "archivo.close()"
   ]
  },
  {
   "cell_type": "markdown",
   "metadata": {},
   "source": [
    "<a href=\"./T06_Funciones_y_Documentacion.ipynb\">Funciones y documentación</a>"
   ]
  },
  {
   "cell_type": "markdown",
   "metadata": {},
   "source": [
    "<a href=\"./T07_Excepciones.ipynb\">Excepciones</a>"
   ]
  },
  {
   "cell_type": "markdown",
   "metadata": {},
   "source": [
    "### Proyecto 1:\n",
    "Organizar los cálculos en funciones que reciban varios tipos de argumentos y que regresen distintos tipos de objetos. La idea es que el programa solicite al usuario la temperatura inicial ($T_o$), el peso del huevo ($M$); El programa debe verificar que $T_o \\in [4,20]$ y $M \\in [47, 67]$ y que los valores introducidos sean compatibles para realizar los cálculos. Los errores deberán ser manejados con excepciones. Documente sus funciones para que el usuario sepa que es lo que hacen."
   ]
  },
  {
   "cell_type": "markdown",
   "metadata": {},
   "source": [
    "<a href=\"./T08_IterablesMapFilter.ipynb\">Iterables, Mapeo y Filtrado</a>"
   ]
  },
  {
   "cell_type": "markdown",
   "metadata": {},
   "source": [
    "<a href=\"T09_LambdaExpressions_Reduce.ipynb\">Lambda Expressions y Reduce </a>"
   ]
  },
  {
   "cell_type": "markdown",
   "metadata": {},
   "source": [
    "<a href=\"T10_Comprehensions.ipynb\">Comprehensions</a>\n"
   ]
  },
  {
   "cell_type": "markdown",
   "metadata": {},
   "source": [
    "<a href=\"T11_IteradoresGeneradores.ipynb\">Iteradores y generadores</a>"
   ]
  },
  {
   "cell_type": "markdown",
   "metadata": {},
   "source": [
    "<a href=\"T12_Decoradores.ipynb\">Decoradores</a>"
   ]
  },
  {
   "cell_type": "markdown",
   "metadata": {},
   "source": [
    "<a href=\"T13_BibliotecaEstandar.ipynb\">Biblioteca estándar</a>"
   ]
  },
  {
   "cell_type": "markdown",
   "metadata": {},
   "source": [
    "### Proyecto 2:\n",
    "Re-programe el proyecto 1 usando una forma más *Pythónica*, dando la posibilidad de usar grados Kelvin y Farenheit. \n",
    "Bonus: Haga uso de <a href=\"./BONUS_IPYWidgets.ipynb\">IPYWidgets</a> para un mejor manejo del programa."
   ]
  }
 ],
 "metadata": {
  "kernelspec": {
   "display_name": "Python 3",
   "language": "python",
   "name": "python3"
  },
  "language_info": {
   "codemirror_mode": {
    "name": "ipython",
    "version": 3
   },
   "file_extension": ".py",
   "mimetype": "text/x-python",
   "name": "python",
   "nbconvert_exporter": "python",
   "pygments_lexer": "ipython3",
   "version": "3.8.5"
  }
 },
 "nbformat": 4,
 "nbformat_minor": 4
}
