{
 "cells": [
  {
   "cell_type": "markdown",
   "metadata": {},
   "source": [
    "# Python de cero a experto\n",
    "**Autor:** Luis Miguel de la Cruz Salas\n",
    "\n",
    "<a href=\"https://github.com/luiggix/Python_cero_a_experto\">Python de cero a experto</a> by Luis M. de la Cruz Salas is licensed under <a href=\"https://creativecommons.org/licenses/by-nc-nd/4.0?ref=chooser-v1\">Attribution-NonCommercial-NoDerivatives 4.0 International</a>\n",
    "\n",
    "\n",
    "**Objetivos.**\n",
    "..."
   ]
  },
  {
   "cell_type": "markdown",
   "metadata": {},
   "source": [
    "## Convertidor de unidades\n",
    "\n",
    "El fútbol americano es un derivado del rugby inglés y nació hace más de cien años en Estados Unidos. Es bastante popular en ese país, así como en Canadá y en México, se practica en más de 60 países. Para un espectador principiante que ha vivido en un país donde se utiliza el Sistema Internacional de Unidades (SI) le cuesta trabajo entender las dimensiones del juego, pues en él se utilizan yardas, libras, pies, pulgadas, grados farenheit, etc.\n",
    "\n",
    "<img src=\"./Figuras/field-dimensions-image-yards.jpeg\"/>"
   ]
  },
  {
   "cell_type": "markdown",
   "metadata": {},
   "source": [
    "### Ejercicio 1.\n",
    "El lanzamiento de balón, de futbol americano, más largo registrado fue de Vinny Testaverde, quien supuestamente lanzó una pelota de 80 yardas en 1988. Randall Cunningham una vez registró 76 yardas y Brett Favre lanzó una bomba de 75 yardas en la competencia del 97. El mariscal de campo Patrick Mahomes asegura que puede lanzar el balón 83 yardas.\n",
    "\n",
    "Realice un código que convierta yardas a metros y ordene los lanzamientos mencionados en el párrafo anterior de mayor a menor."
   ]
  },
  {
   "cell_type": "markdown",
   "metadata": {},
   "source": [
    "**<font color=\"#126534\">SOLUCIÓN.</font>**<br>"
   ]
  },
  {
   "cell_type": "markdown",
   "metadata": {},
   "source": [
    "<a href=\"./T06_Funciones_y_Documentacion.ipynb\">Funciones y documentación</a>"
   ]
  },
  {
   "cell_type": "markdown",
   "metadata": {},
   "source": [
    "<a href=\"./T07_Excepciones.ipynb\">Excepciones</a>"
   ]
  },
  {
   "cell_type": "markdown",
   "metadata": {},
   "source": [
    "<a href=\"./T08_IterablesMapFilter.ipynb\">Iterables, Mapeo y Filtrado</a>"
   ]
  },
  {
   "cell_type": "markdown",
   "metadata": {},
   "source": [
    "<a href=\"T09_LambdaExpressions_Reduce.ipynb\">Lambda Expressions y Reduce </a>"
   ]
  },
  {
   "cell_type": "markdown",
   "metadata": {},
   "source": [
    "<a href=\"T10_Comprehensions.ipynb\">Comprehensions</a>\n"
   ]
  },
  {
   "cell_type": "markdown",
   "metadata": {},
   "source": [
    "<a href=\"T11_IteradoresGeneradores.ipynb\">Iteradores y generadores</a>"
   ]
  },
  {
   "cell_type": "markdown",
   "metadata": {},
   "source": [
    "<a href=\"T12_Decoradores.ipynb\">Decoradores</a>"
   ]
  },
  {
   "cell_type": "markdown",
   "metadata": {},
   "source": [
    "<a href=\"T13_BibliotecaEstandar.ipynb\">Biblioteca estándar</a>"
   ]
  }
 ],
 "metadata": {
  "kernelspec": {
   "display_name": "Python 3",
   "language": "python",
   "name": "python3"
  },
  "language_info": {
   "codemirror_mode": {
    "name": "ipython",
    "version": 3
   },
   "file_extension": ".py",
   "mimetype": "text/x-python",
   "name": "python",
   "nbconvert_exporter": "python",
   "pygments_lexer": "ipython3",
   "version": "3.8.5"
  }
 },
 "nbformat": 4,
 "nbformat_minor": 4
}
