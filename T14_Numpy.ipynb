{
 "cells": [
  {
   "cell_type": "markdown",
   "metadata": {},
   "source": [
    "# Python de cero a experto\n",
    "**Autor:** Luis Miguel de la Cruz Salas\n",
    "\n",
    "<a href=\"https://github.com/luiggix/Python_cero_a_experto\">Python de cero a experto</a> by Luis M. de la Cruz Salas is licensed under <a href=\"https://creativecommons.org/licenses/by-nc-nd/4.0?ref=chooser-v1\">Attribution-NonCommercial-NoDerivatives 4.0 International</a>\n",
    "\n",
    "\n",
    "**Objetivos.**\n",
    "..."
   ]
  },
  {
   "cell_type": "markdown",
   "metadata": {},
   "source": [
    "## Numpy\n",
    "\n",
    "Inicialmente conocido como **Numeric**, fue desarrollado en 1995, principalmente por *Jim Hugunin*. \n",
    "Es la biblioteca fundamental para hacer cómputo científico.\n",
    "\n",
    "Para usar todas las herramientas de numpy debemos importar la biblioteca como sigue:"
   ]
  },
  {
   "cell_type": "code",
   "execution_count": 1,
   "metadata": {},
   "outputs": [],
   "source": [
    "import numpy as np"
   ]
  },
  {
   "cell_type": "markdown",
   "metadata": {},
   "source": [
    "### Creación de arreglos simples\n",
    "`np.array`\n",
    "`np.arange`\n",
    "`np.linspace`\n",
    "`np.zeros`\n",
    "`np.ones`"
   ]
  },
  {
   "cell_type": "code",
   "execution_count": 35,
   "metadata": {},
   "outputs": [
    {
     "data": {
      "text/plain": [
       "array([ 1,  2,  3,  4,  5,  6,  7,  8,  9, 10])"
      ]
     },
     "execution_count": 35,
     "metadata": {},
     "output_type": "execute_result"
    }
   ],
   "source": [
    "x = np.array([1,2,3,4,5,6,7,8,9,10])\n",
    "x"
   ]
  },
  {
   "cell_type": "code",
   "execution_count": 36,
   "metadata": {},
   "outputs": [
    {
     "name": "stdout",
     "output_type": "stream",
     "text": [
      " tipo  : <class 'numpy.ndarray'> \n",
      " dtype : int64 \n",
      " dim   : 1 \n",
      " shape : (10,) \n",
      " size : 8\n"
     ]
    }
   ],
   "source": [
    "print(f' tipo  : {type(x)} \\n dtype : {x.dtype} \\n dim   : {x.ndim} \\n shape : {x.shape} \\n size : {x.itemsize}')"
   ]
  },
  {
   "cell_type": "code",
   "execution_count": 37,
   "metadata": {},
   "outputs": [
    {
     "data": {
      "text/plain": [
       "array([0, 1, 2, 3, 4, 5, 6, 7, 8, 9])"
      ]
     },
     "execution_count": 37,
     "metadata": {},
     "output_type": "execute_result"
    }
   ],
   "source": [
    "x = np.arange(10)\n",
    "x"
   ]
  },
  {
   "cell_type": "code",
   "execution_count": 38,
   "metadata": {},
   "outputs": [
    {
     "data": {
      "text/plain": [
       "array([ 1,  2,  3,  4,  5,  6,  7,  8,  9, 10])"
      ]
     },
     "execution_count": 38,
     "metadata": {},
     "output_type": "execute_result"
    }
   ],
   "source": [
    "x = np.arange(1,11,1)\n",
    "x"
   ]
  },
  {
   "cell_type": "code",
   "execution_count": 39,
   "metadata": {},
   "outputs": [
    {
     "name": "stdout",
     "output_type": "stream",
     "text": [
      " tipo  : <class 'numpy.ndarray'> \n",
      " dtype : int64 \n",
      " dim   : 1 \n",
      " shape : (10,) \n",
      " size : 8\n"
     ]
    }
   ],
   "source": [
    "print(f' tipo  : {type(x)} \\n dtype : {x.dtype} \\n dim   : {x.ndim} \\n shape : {x.shape} \\n size : {x.itemsize}')"
   ]
  },
  {
   "cell_type": "code",
   "execution_count": 40,
   "metadata": {},
   "outputs": [
    {
     "data": {
      "text/plain": [
       "array([ 1.,  2.,  3.,  4.,  5.,  6.,  7.,  8.,  9., 10.])"
      ]
     },
     "execution_count": 40,
     "metadata": {},
     "output_type": "execute_result"
    }
   ],
   "source": [
    "x = np.linspace(1,10,10)\n",
    "x"
   ]
  },
  {
   "cell_type": "code",
   "execution_count": 42,
   "metadata": {},
   "outputs": [
    {
     "name": "stdout",
     "output_type": "stream",
     "text": [
      " tipo  : <class 'numpy.ndarray'> \n",
      " dtype : float64 \n",
      " dim   : 1 \n",
      " shape : (10,) \n",
      " size : 8\n"
     ]
    }
   ],
   "source": [
    "print(f' tipo  : {type(x)} \\n dtype : {x.dtype} \\n dim   : {x.ndim} \\n shape : {x.shape} \\n size : {x.itemsize}')"
   ]
  },
  {
   "cell_type": "code",
   "execution_count": 43,
   "metadata": {},
   "outputs": [
    {
     "data": {
      "text/plain": [
       "array([0., 0., 0., 0., 0., 0., 0., 0., 0., 0.])"
      ]
     },
     "execution_count": 43,
     "metadata": {},
     "output_type": "execute_result"
    }
   ],
   "source": [
    "x = np.zeros(10)\n",
    "x"
   ]
  },
  {
   "cell_type": "code",
   "execution_count": 44,
   "metadata": {},
   "outputs": [
    {
     "name": "stdout",
     "output_type": "stream",
     "text": [
      " tipo  : <class 'numpy.ndarray'> \n",
      " dtype : float64 \n",
      " dim   : 1 \n",
      " shape : (10,) \n",
      " size : 8\n"
     ]
    }
   ],
   "source": [
    "print(f' tipo  : {type(x)} \\n dtype : {x.dtype} \\n dim   : {x.ndim} \\n shape : {x.shape} \\n size : {x.itemsize}')"
   ]
  },
  {
   "cell_type": "code",
   "execution_count": 45,
   "metadata": {},
   "outputs": [
    {
     "data": {
      "text/plain": [
       "array([1., 1., 1., 1., 1., 1., 1., 1., 1., 1.])"
      ]
     },
     "execution_count": 45,
     "metadata": {},
     "output_type": "execute_result"
    }
   ],
   "source": [
    "x = np.ones(10)\n",
    "x"
   ]
  },
  {
   "cell_type": "code",
   "execution_count": 46,
   "metadata": {},
   "outputs": [
    {
     "name": "stdout",
     "output_type": "stream",
     "text": [
      " tipo  : <class 'numpy.ndarray'> \n",
      " dtype : float64 \n",
      " dim   : 1 \n",
      " shape : (10,) \n",
      " size : 8\n"
     ]
    }
   ],
   "source": [
    "print(f' tipo  : {type(x)} \\n dtype : {x.dtype} \\n dim   : {x.ndim} \\n shape : {x.shape} \\n size : {x.itemsize}')"
   ]
  },
  {
   "cell_type": "code",
   "execution_count": 47,
   "metadata": {},
   "outputs": [
    {
     "data": {
      "text/plain": [
       "array([45., 45., 45., 45., 45., 45., 45., 45., 45., 45.])"
      ]
     },
     "execution_count": 47,
     "metadata": {},
     "output_type": "execute_result"
    }
   ],
   "source": [
    "x *= 45\n",
    "x"
   ]
  },
  {
   "cell_type": "code",
   "execution_count": 48,
   "metadata": {},
   "outputs": [
    {
     "name": "stdout",
     "output_type": "stream",
     "text": [
      " tipo  : <class 'numpy.ndarray'> \n",
      " dtype : float64 \n",
      " dim   : 1 \n",
      " shape : (10,) \n",
      " size : 8\n"
     ]
    }
   ],
   "source": [
    "print(f' tipo  : {type(x)} \\n dtype : {x.dtype} \\n dim   : {x.ndim} \\n shape : {x.shape} \\n size : {x.itemsize}')"
   ]
  },
  {
   "cell_type": "code",
   "execution_count": 50,
   "metadata": {},
   "outputs": [],
   "source": [
    "# Modificar el tipo de dato de los elementos del arreglo\n",
    "# La modificación afecta al arreglo 'y' pero no al arreglo 'x' (no es inplace)\n",
    "y = x.astype(int)"
   ]
  },
  {
   "cell_type": "code",
   "execution_count": 51,
   "metadata": {},
   "outputs": [
    {
     "name": "stdout",
     "output_type": "stream",
     "text": [
      " tipo  : <class 'numpy.ndarray'> \n",
      " dtype : float64 \n",
      " dim   : 1 \n",
      " shape : (10,) \n",
      " size : 8\n"
     ]
    }
   ],
   "source": [
    "print(f' tipo  : {type(x)} \\n dtype : {x.dtype} \\n dim   : {x.ndim} \\n shape : {x.shape} \\n size : {x.itemsize}')"
   ]
  },
  {
   "cell_type": "code",
   "execution_count": 98,
   "metadata": {},
   "outputs": [
    {
     "name": "stdout",
     "output_type": "stream",
     "text": [
      " tipo  : <class 'numpy.ndarray'> \n",
      " dtype : float64 \n",
      " dim   : 2 \n",
      " shape : (6, 4) \n",
      " size : 8\n"
     ]
    }
   ],
   "source": [
    "print(f' tipo  : {type(y)} \\n dtype : {y.dtype} \\n dim   : {y.ndim} \\n shape : {y.shape} \\n size : {y.itemsize}')"
   ]
  },
  {
   "cell_type": "code",
   "execution_count": 53,
   "metadata": {},
   "outputs": [
    {
     "name": "stdout",
     "output_type": "stream",
     "text": [
      "139979675525808 139979675527008\n"
     ]
    }
   ],
   "source": [
    "print(id(x), id(y))"
   ]
  },
  {
   "cell_type": "markdown",
   "metadata": {},
   "source": [
    "### Arreglos multidimensionales"
   ]
  },
  {
   "cell_type": "code",
   "execution_count": 54,
   "metadata": {},
   "outputs": [
    {
     "data": {
      "text/plain": [
       "array([[1.+0.j, 2.+0.j],\n",
       "       [0.+0.j, 0.+0.j],\n",
       "       [1.+1.j, 3.+0.j]])"
      ]
     },
     "execution_count": 54,
     "metadata": {},
     "output_type": "execute_result"
    }
   ],
   "source": [
    "x = np.array([[1,2.0],[0,0],(1+1j,3.)])\n",
    "x"
   ]
  },
  {
   "cell_type": "code",
   "execution_count": 55,
   "metadata": {},
   "outputs": [
    {
     "name": "stdout",
     "output_type": "stream",
     "text": [
      " tipo  : <class 'numpy.ndarray'> \n",
      " dtype : complex128 \n",
      " dim   : 2 \n",
      " shape : (3, 2) \n",
      " size : 16\n"
     ]
    }
   ],
   "source": [
    "print(f' tipo  : {type(x)} \\n dtype : {x.dtype} \\n dim   : {x.ndim} \\n shape : {x.shape} \\n size : {x.itemsize}')"
   ]
  },
  {
   "cell_type": "code",
   "execution_count": 61,
   "metadata": {},
   "outputs": [
    {
     "data": {
      "text/plain": [
       "array([[1.+0.j, 2.+0.j],\n",
       "       [3.+0.j, 4.+0.j]])"
      ]
     },
     "execution_count": 61,
     "metadata": {},
     "output_type": "execute_result"
    }
   ],
   "source": [
    "x = np.array( [ [1,2], [3,4] ], dtype=complex )\n",
    "x"
   ]
  },
  {
   "cell_type": "code",
   "execution_count": 62,
   "metadata": {},
   "outputs": [
    {
     "name": "stdout",
     "output_type": "stream",
     "text": [
      " tipo  : <class 'numpy.ndarray'> \n",
      " dtype : complex128 \n",
      " dim   : 2 \n",
      " shape : (2, 2) \n",
      " size : 16\n"
     ]
    }
   ],
   "source": [
    "print(f' tipo  : {type(x)} \\n dtype : {x.dtype} \\n dim   : {x.ndim} \\n shape : {x.shape} \\n size : {x.itemsize}')"
   ]
  },
  {
   "cell_type": "code",
   "execution_count": 66,
   "metadata": {},
   "outputs": [
    {
     "data": {
      "text/plain": [
       "array([[[1, 2],\n",
       "        [3, 4]],\n",
       "\n",
       "       [[5, 6],\n",
       "        [7, 8]]])"
      ]
     },
     "execution_count": 66,
     "metadata": {},
     "output_type": "execute_result"
    }
   ],
   "source": [
    "x = np.array( [ [[1,2], [3,4]], [[5,6], [7,8]] ])\n",
    "x"
   ]
  },
  {
   "cell_type": "code",
   "execution_count": 67,
   "metadata": {},
   "outputs": [
    {
     "name": "stdout",
     "output_type": "stream",
     "text": [
      " tipo  : <class 'numpy.ndarray'> \n",
      " dtype : int64 \n",
      " dim   : 3 \n",
      " shape : (2, 2, 2) \n",
      " size : 8\n"
     ]
    }
   ],
   "source": [
    "print(f' tipo  : {type(x)} \\n dtype : {x.dtype} \\n dim   : {x.ndim} \\n shape : {x.shape} \\n size : {x.itemsize}')"
   ]
  },
  {
   "cell_type": "code",
   "execution_count": 80,
   "metadata": {},
   "outputs": [
    {
     "data": {
      "text/plain": [
       "array([[0., 0., 0., 0., 0., 0., 0., 0., 0., 0.],\n",
       "       [0., 0., 0., 0., 0., 0., 0., 0., 0., 0.],\n",
       "       [0., 0., 0., 0., 0., 0., 0., 0., 0., 0.],\n",
       "       [0., 0., 0., 0., 0., 0., 0., 0., 0., 0.],\n",
       "       [0., 0., 0., 0., 0., 0., 0., 0., 0., 0.],\n",
       "       [0., 0., 0., 0., 0., 0., 0., 0., 0., 0.],\n",
       "       [0., 0., 0., 0., 0., 0., 0., 0., 0., 0.],\n",
       "       [0., 0., 0., 0., 0., 0., 0., 0., 0., 0.],\n",
       "       [0., 0., 0., 0., 0., 0., 0., 0., 0., 0.],\n",
       "       [0., 0., 0., 0., 0., 0., 0., 0., 0., 0.]])"
      ]
     },
     "execution_count": 80,
     "metadata": {},
     "output_type": "execute_result"
    }
   ],
   "source": [
    "x = np.zeros((10,10))\n",
    "x"
   ]
  },
  {
   "cell_type": "code",
   "execution_count": 81,
   "metadata": {},
   "outputs": [
    {
     "name": "stdout",
     "output_type": "stream",
     "text": [
      " tipo  : <class 'numpy.ndarray'> \n",
      " dtype : float64 \n",
      " dim   : 2 \n",
      " shape : (10, 10) \n",
      " size : 8\n"
     ]
    }
   ],
   "source": [
    "print(f' tipo  : {type(x)} \\n dtype : {x.dtype} \\n dim   : {x.ndim} \\n shape : {x.shape} \\n size : {x.itemsize}')"
   ]
  },
  {
   "cell_type": "code",
   "execution_count": 74,
   "metadata": {},
   "outputs": [
    {
     "data": {
      "text/plain": [
       "array([[[1., 1.],\n",
       "        [1., 1.],\n",
       "        [1., 1.]],\n",
       "\n",
       "       [[1., 1.],\n",
       "        [1., 1.],\n",
       "        [1., 1.]],\n",
       "\n",
       "       [[1., 1.],\n",
       "        [1., 1.],\n",
       "        [1., 1.]],\n",
       "\n",
       "       [[1., 1.],\n",
       "        [1., 1.],\n",
       "        [1., 1.]]])"
      ]
     },
     "execution_count": 74,
     "metadata": {},
     "output_type": "execute_result"
    }
   ],
   "source": [
    "x = np.ones((4,3,2))\n",
    "x"
   ]
  },
  {
   "cell_type": "code",
   "execution_count": 75,
   "metadata": {},
   "outputs": [
    {
     "name": "stdout",
     "output_type": "stream",
     "text": [
      " tipo  : <class 'numpy.ndarray'> \n",
      " dtype : float64 \n",
      " dim   : 3 \n",
      " shape : (4, 3, 2) \n",
      " size : 8\n"
     ]
    }
   ],
   "source": [
    "print(f' tipo  : {type(x)} \\n dtype : {x.dtype} \\n dim   : {x.ndim} \\n shape : {x.shape} \\n size : {x.itemsize}')"
   ]
  },
  {
   "cell_type": "code",
   "execution_count": 90,
   "metadata": {},
   "outputs": [
    {
     "data": {
      "text/plain": [
       "array([[[1., 1., 1., 1.],\n",
       "        [1., 1., 1., 1.],\n",
       "        [1., 1., 1., 1.]],\n",
       "\n",
       "       [[1., 1., 1., 1.],\n",
       "        [1., 1., 1., 1.],\n",
       "        [1., 1., 1., 1.]]])"
      ]
     },
     "execution_count": 90,
     "metadata": {},
     "output_type": "execute_result"
    }
   ],
   "source": [
    "x = np.empty((2,3,4))\n",
    "x"
   ]
  },
  {
   "cell_type": "code",
   "execution_count": 91,
   "metadata": {},
   "outputs": [
    {
     "name": "stdout",
     "output_type": "stream",
     "text": [
      " tipo  : <class 'numpy.ndarray'> \n",
      " dtype : float64 \n",
      " dim   : 3 \n",
      " shape : (2, 3, 4) \n",
      " size : 8\n"
     ]
    }
   ],
   "source": [
    "print(f' tipo  : {type(x)} \\n dtype : {x.dtype} \\n dim   : {x.ndim} \\n shape : {x.shape} \\n size : {x.itemsize}')"
   ]
  },
  {
   "cell_type": "markdown",
   "metadata": {},
   "source": [
    "### Cambiando el `shape` de los arreglos\n",
    "#### Función `reshape`"
   ]
  },
  {
   "cell_type": "code",
   "execution_count": 120,
   "metadata": {},
   "outputs": [
    {
     "name": "stdout",
     "output_type": "stream",
     "text": [
      " tipo  : <class 'numpy.ndarray'> \n",
      " dtype : int64 \n",
      " dim   : 3 \n",
      " shape : (2, 3, 4) \n",
      " size : 8\n",
      "x = \n",
      " [[[ 1  2  3  4]\n",
      "  [ 5  6  7  8]\n",
      "  [ 9 10 11 12]]\n",
      "\n",
      " [[13 14 15 16]\n",
      "  [17 16 19 20]\n",
      "  [21 22 23 24]]]\n"
     ]
    }
   ],
   "source": [
    "x = np.array([ [[ 1, 2, 3, 4],\n",
    "                [ 5, 6, 7, 8],\n",
    "                [ 9,10,11,12]],\n",
    "               [[13,14,15,16],\n",
    "                [17,16,19,20],\n",
    "                [21,22,23,24]] ])\n",
    "print(f' tipo  : {type(x)} \\n dtype : {x.dtype} \\n dim   : {x.ndim} \\n shape : {x.shape} \\n size : {x.itemsize}')\n",
    "print(f'x = \\n {x}')"
   ]
  },
  {
   "cell_type": "code",
   "execution_count": 121,
   "metadata": {},
   "outputs": [
    {
     "name": "stdout",
     "output_type": "stream",
     "text": [
      " tipo  : <class 'numpy.ndarray'> \n",
      " dtype : int64 \n",
      " dim   : 2 \n",
      " shape : (6, 4) \n",
      " size : 8\n",
      "y = \n",
      " [[ 1  2  3  4]\n",
      " [ 5  6  7  8]\n",
      " [ 9 10 11 12]\n",
      " [13 14 15 16]\n",
      " [17 16 19 20]\n",
      " [21 22 23 24]]\n"
     ]
    }
   ],
   "source": [
    "y = x.reshape(6,4)\n",
    "print(f' tipo  : {type(y)} \\n dtype : {y.dtype} \\n dim   : {y.ndim} \\n shape : {y.shape} \\n size : {y.itemsize}')\n",
    "print(f'y = \\n {y}')"
   ]
  },
  {
   "cell_type": "code",
   "execution_count": 122,
   "metadata": {},
   "outputs": [
    {
     "name": "stdout",
     "output_type": "stream",
     "text": [
      " tipo  : <class 'numpy.ndarray'> \n",
      " dtype : int64 \n",
      " dim   : 3 \n",
      " shape : (2, 3, 4) \n",
      " size : 8\n",
      "x = \n",
      " [[[ 1  2  3  4]\n",
      "  [ 5  6  7  8]\n",
      "  [ 9 10 11 12]]\n",
      "\n",
      " [[13 14 15 16]\n",
      "  [17 16 19 20]\n",
      "  [21 22 23 24]]] \n",
      "\n"
     ]
    }
   ],
   "source": [
    "print(f' tipo  : {type(x)} \\n dtype : {x.dtype} \\n dim   : {x.ndim} \\n shape : {x.shape} \\n size : {x.itemsize}')\n",
    "print(f'x = \\n {x} \\n')"
   ]
  },
  {
   "cell_type": "code",
   "execution_count": 124,
   "metadata": {},
   "outputs": [
    {
     "name": "stdout",
     "output_type": "stream",
     "text": [
      " tipo  : <class 'numpy.ndarray'> \n",
      " dtype : int64 \n",
      " dim   : 1 \n",
      " shape : (24,) \n",
      " size : 8\n",
      "y = \n",
      " [ 1  2  3  4  5  6  7  8  9 10 11 12 13 14 15 16 17 16 19 20 21 22 23 24]\n"
     ]
    }
   ],
   "source": [
    "y = x.reshape(24)\n",
    "print(f' tipo  : {type(y)} \\n dtype : {y.dtype} \\n dim   : {y.ndim} \\n shape : {y.shape} \\n size : {y.itemsize}')\n",
    "print(f'y = \\n {y}')"
   ]
  },
  {
   "cell_type": "code",
   "execution_count": 131,
   "metadata": {},
   "outputs": [
    {
     "name": "stdout",
     "output_type": "stream",
     "text": [
      " tipo  : <class 'numpy.ndarray'> \n",
      " dtype : int64 \n",
      " dim   : 3 \n",
      " shape : (2, 3, 4) \n",
      " size : 8\n",
      "y = \n",
      " [[[ 1  2  3  4]\n",
      "  [ 5  6  7  8]\n",
      "  [ 9 10 11 12]]\n",
      "\n",
      " [[13 14 15 16]\n",
      "  [17 16 19 20]\n",
      "  [21 22 23 24]]]\n",
      "x = \n",
      " [[[ 1  2  3  4]\n",
      "  [ 5  6  7  8]\n",
      "  [ 9 10 11 12]]\n",
      "\n",
      " [[13 14 15 16]\n",
      "  [17 16 19 20]\n",
      "  [21 22 23 24]]]\n"
     ]
    }
   ],
   "source": [
    "y = x.reshape(2,3,4)\n",
    "print(f' tipo  : {type(y)} \\n dtype : {y.dtype} \\n dim   : {y.ndim} \\n shape : {y.shape} \\n size : {y.itemsize}')\n",
    "print(f'y = \\n {y}')\n",
    "print(f'x = \\n {x}')"
   ]
  },
  {
   "cell_type": "markdown",
   "metadata": {},
   "source": [
    "#### Atributo `shape` (inplace)"
   ]
  },
  {
   "cell_type": "code",
   "execution_count": 133,
   "metadata": {},
   "outputs": [
    {
     "data": {
      "text/plain": [
       "(2, 3, 4)"
      ]
     },
     "execution_count": 133,
     "metadata": {},
     "output_type": "execute_result"
    }
   ],
   "source": [
    "y.shape"
   ]
  },
  {
   "cell_type": "code",
   "execution_count": 134,
   "metadata": {},
   "outputs": [
    {
     "data": {
      "text/plain": [
       "(6, 4)"
      ]
     },
     "execution_count": 134,
     "metadata": {},
     "output_type": "execute_result"
    }
   ],
   "source": [
    "y.shape = (6,4)\n",
    "y.shape"
   ]
  },
  {
   "cell_type": "code",
   "execution_count": 135,
   "metadata": {},
   "outputs": [
    {
     "name": "stdout",
     "output_type": "stream",
     "text": [
      " tipo  : <class 'numpy.ndarray'> \n",
      " dtype : int64 \n",
      " dim   : 2 \n",
      " shape : (6, 4) \n",
      " size : 8\n",
      "y = \n",
      " [[ 1  2  3  4]\n",
      " [ 5  6  7  8]\n",
      " [ 9 10 11 12]\n",
      " [13 14 15 16]\n",
      " [17 16 19 20]\n",
      " [21 22 23 24]]\n"
     ]
    }
   ],
   "source": [
    "print(f' tipo  : {type(y)} \\n dtype : {y.dtype} \\n dim   : {y.ndim} \\n shape : {y.shape} \\n size : {y.itemsize}')\n",
    "print(f'y = \\n {y}')"
   ]
  },
  {
   "cell_type": "markdown",
   "metadata": {},
   "source": [
    "#### Creando un arreglo y modificando su `shape` al vuelo"
   ]
  },
  {
   "cell_type": "code",
   "execution_count": 136,
   "metadata": {},
   "outputs": [
    {
     "data": {
      "text/plain": [
       "array([[[ 0,  1,  2,  3],\n",
       "        [ 4,  5,  6,  7],\n",
       "        [ 8,  9, 10, 11]],\n",
       "\n",
       "       [[12, 13, 14, 15],\n",
       "        [16, 17, 18, 19],\n",
       "        [20, 21, 22, 23]]])"
      ]
     },
     "execution_count": 136,
     "metadata": {},
     "output_type": "execute_result"
    }
   ],
   "source": [
    "x = np.arange(24).reshape(2,3,4)\n",
    "x"
   ]
  },
  {
   "cell_type": "code",
   "execution_count": 139,
   "metadata": {},
   "outputs": [
    {
     "name": "stdout",
     "output_type": "stream",
     "text": [
      " tipo  : <class 'numpy.ndarray'> \n",
      " dtype : int64 \n",
      " dim   : 3 \n",
      " shape : (2, 3, 4) \n",
      " size : 8\n"
     ]
    },
    {
     "data": {
      "text/plain": [
       "array([[[ 1,  2,  3,  4],\n",
       "        [ 5,  6,  7,  8],\n",
       "        [ 9, 10, 11, 12]],\n",
       "\n",
       "       [[13, 14, 15, 16],\n",
       "        [17, 18, 19, 20],\n",
       "        [21, 22, 23, 24]]])"
      ]
     },
     "execution_count": 139,
     "metadata": {},
     "output_type": "execute_result"
    }
   ],
   "source": [
    "x = np.arange(1,25,1).reshape(2,3,4)\n",
    "print(f' tipo  : {type(x)} \\n dtype : {x.dtype} \\n dim   : {x.ndim} \\n shape : {x.shape} \\n size : {x.itemsize}')\n",
    "x"
   ]
  },
  {
   "cell_type": "markdown",
   "metadata": {},
   "source": [
    "### Operaciones básicas entre arreglos"
   ]
  },
  {
   "cell_type": "code",
   "execution_count": 141,
   "metadata": {},
   "outputs": [],
   "source": [
    "v1 = np.array([2.3,3.1,9.6])\n",
    "v2 = np.array([3.4,5.6,7.8])"
   ]
  },
  {
   "cell_type": "code",
   "execution_count": 142,
   "metadata": {},
   "outputs": [
    {
     "data": {
      "text/plain": [
       "array([0.76666667, 1.03333333, 3.2       ])"
      ]
     },
     "execution_count": 142,
     "metadata": {},
     "output_type": "execute_result"
    }
   ],
   "source": [
    "(1/3)*v1 # Escalar por arreglo"
   ]
  },
  {
   "cell_type": "code",
   "execution_count": 143,
   "metadata": {},
   "outputs": [
    {
     "data": {
      "text/plain": [
       "array([ 5.7,  8.7, 17.4])"
      ]
     },
     "execution_count": 143,
     "metadata": {},
     "output_type": "execute_result"
    }
   ],
   "source": [
    "v1+v2 # Suma de arreglos"
   ]
  },
  {
   "cell_type": "code",
   "execution_count": 144,
   "metadata": {},
   "outputs": [
    {
     "data": {
      "text/plain": [
       "array([-1.1, -2.5,  1.8])"
      ]
     },
     "execution_count": 144,
     "metadata": {},
     "output_type": "execute_result"
    }
   ],
   "source": [
    "v1-v2 # Resta de arreglos"
   ]
  },
  {
   "cell_type": "code",
   "execution_count": 145,
   "metadata": {},
   "outputs": [
    {
     "data": {
      "text/plain": [
       "array([ 7.82, 17.36, 74.88])"
      ]
     },
     "execution_count": 145,
     "metadata": {},
     "output_type": "execute_result"
    }
   ],
   "source": [
    "v1*v2 # Multiplicación elemento a elemento"
   ]
  },
  {
   "cell_type": "code",
   "execution_count": 146,
   "metadata": {},
   "outputs": [
    {
     "data": {
      "text/plain": [
       "array([0.67647059, 0.55357143, 1.23076923])"
      ]
     },
     "execution_count": 146,
     "metadata": {},
     "output_type": "execute_result"
    }
   ],
   "source": [
    "v1/v2 # División elemento a elemento"
   ]
  },
  {
   "cell_type": "code",
   "execution_count": 147,
   "metadata": {},
   "outputs": [
    {
     "data": {
      "text/plain": [
       "array([ 5.29,  9.61, 92.16])"
      ]
     },
     "execution_count": 147,
     "metadata": {},
     "output_type": "execute_result"
    }
   ],
   "source": [
    "v1 ** 2 # Potencia de un arreglo"
   ]
  },
  {
   "cell_type": "code",
   "execution_count": 148,
   "metadata": {},
   "outputs": [
    {
     "data": {
      "text/plain": [
       "array([0.3, 1.1, 1.6])"
      ]
     },
     "execution_count": 148,
     "metadata": {},
     "output_type": "execute_result"
    }
   ],
   "source": [
    "v1 % 2  # Modulo de un arreglo"
   ]
  },
  {
   "cell_type": "code",
   "execution_count": 151,
   "metadata": {},
   "outputs": [
    {
     "data": {
      "text/plain": [
       "array([ 7.45705212,  0.41580662, -1.74326781])"
      ]
     },
     "execution_count": 151,
     "metadata": {},
     "output_type": "execute_result"
    }
   ],
   "source": [
    "10 * np.sin(v1) # Aplicación de una función matemática a cada elemento del arreglo"
   ]
  },
  {
   "cell_type": "code",
   "execution_count": 154,
   "metadata": {},
   "outputs": [
    {
     "data": {
      "text/plain": [
       "array([False,  True,  True])"
      ]
     },
     "execution_count": 154,
     "metadata": {},
     "output_type": "execute_result"
    }
   ],
   "source": [
    "v1 > 3 # Operación de comparación, devuelve un arreglo Booleano"
   ]
  },
  {
   "cell_type": "markdown",
   "metadata": {},
   "source": []
  },
  {
   "cell_type": "code",
   "execution_count": null,
   "metadata": {},
   "outputs": [],
   "source": []
  },
  {
   "cell_type": "code",
   "execution_count": null,
   "metadata": {},
   "outputs": [],
   "source": []
  }
 ],
 "metadata": {
  "kernelspec": {
   "display_name": "Python 3",
   "language": "python",
   "name": "python3"
  },
  "language_info": {
   "codemirror_mode": {
    "name": "ipython",
    "version": 3
   },
   "file_extension": ".py",
   "mimetype": "text/x-python",
   "name": "python",
   "nbconvert_exporter": "python",
   "pygments_lexer": "ipython3",
   "version": "3.8.5"
  }
 },
 "nbformat": 4,
 "nbformat_minor": 4
}
