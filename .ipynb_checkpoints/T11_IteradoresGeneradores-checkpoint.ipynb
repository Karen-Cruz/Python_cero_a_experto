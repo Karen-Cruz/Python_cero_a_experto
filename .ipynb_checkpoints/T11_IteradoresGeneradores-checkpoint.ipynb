{
 "cells": [
  {
   "cell_type": "markdown",
   "metadata": {},
   "source": [
    "# Python de cero a experto\n",
    "**Autor:** Luis Miguel de la Cruz Salas\n",
    "\n",
    "<a href=\"https://github.com/luiggix/Python_cero_a_experto\">Python de cero a experto</a> by Luis M. de la Cruz Salas is licensed under <a href=\"https://creativecommons.org/licenses/by-nc-nd/4.0?ref=chooser-v1\">Attribution-NonCommercial-NoDerivatives 4.0 International</a>"
   ]
  },
  {
   "cell_type": "markdown",
   "metadata": {},
   "source": [
    "## Pythonico es más bonito: Pensando como pythonista (intermedio)"
   ]
  },
  {
   "cell_type": "markdown",
   "metadata": {},
   "source": [
    "### Iteradores y Generadores\n",
    "\n",
    "**iterables** (*iterable*) e **iteradores** (*iterator*)\n",
    "\n",
    "- La mayoría de los objetos contenedores se pueden recorrer usando un ciclo <font color=#009500>**for ... in ...**</font> . <br>\n",
    "\n",
    "- Estos contenedores se conocen como iterables (objetos iterables, secuencias iterables, contenedores iterables, conjunto iterable, ...).\n",
    "\n",
    "**Por ejemplo**:"
   ]
  },
  {
   "cell_type": "code",
   "execution_count": 1,
   "metadata": {},
   "outputs": [
    {
     "name": "stdout",
     "output_type": "stream",
     "text": [
      "\n",
      "String Iteration: 1 2 3 4 5 "
     ]
    }
   ],
   "source": [
    "mi_cadena = \"12345\"\n",
    "\n",
    "# Iterating over a String\n",
    "print(\"\\nString Iteration: \", end='')\n",
    "for char in mi_cadena:\n",
    "    print(char, end=' ')"
   ]
  },
  {
   "cell_type": "code",
   "execution_count": 2,
   "metadata": {},
   "outputs": [
    {
     "name": "stdout",
     "output_type": "stream",
     "text": [
      "\n",
      "List Iteration: 1 2 3 4 5 "
     ]
    }
   ],
   "source": [
    "mi_lista = [1,2,3,4,5]\n",
    "\n",
    "# Iterating over a list\n",
    "print('\\nList Iteration: ', end='')\n",
    "for element in mi_lista:\n",
    "    print(element, end=' ')"
   ]
  },
  {
   "cell_type": "code",
   "execution_count": 3,
   "metadata": {},
   "outputs": [
    {
     "name": "stdout",
     "output_type": "stream",
     "text": [
      "\n",
      "Tuple Iteration: 1 2 3 4 5 "
     ]
    }
   ],
   "source": [
    "mi_tupla = (1,2,3,4,5)\n",
    "\n",
    "# Iterating over a tuple (immutable)\n",
    "print(\"\\nTuple Iteration: \", end='')\n",
    "for element in mi_tupla:\n",
    "    print(element, end=' ')"
   ]
  },
  {
   "cell_type": "code",
   "execution_count": 4,
   "metadata": {},
   "outputs": [
    {
     "name": "stdout",
     "output_type": "stream",
     "text": [
      "\n",
      "Dictionary Iteration: uno dos tres cuatro cinco "
     ]
    }
   ],
   "source": [
    "mi_dict = {'uno':1, 'dos':2, 'tres':3, 'cuatro':4, 'cinco':5}\n",
    "\n",
    "# Iterating over dictionary\n",
    "print(\"\\nDictionary Iteration: \", end='') \n",
    "for key in mi_dict:\n",
    "    print(key, end=' ')"
   ]
  },
  {
   "cell_type": "code",
   "execution_count": 6,
   "metadata": {},
   "outputs": [
    {
     "name": "stdout",
     "output_type": "stream",
     "text": [
      "\n",
      "File Iteration: \n",
      "1\n",
      "2\n",
      "3\n"
     ]
    }
   ],
   "source": [
    "mi_archivo = open(\"mi_archivo.txt\")\n",
    "\n",
    "# Iterating over file\n",
    "print(\"\\nFile Iteration: \") \n",
    "for line in mi_archivo:\n",
    "    print(line, end = '')"
   ]
  },
  {
   "cell_type": "markdown",
   "metadata": {},
   "source": [
    "**Datos importantes**:\n",
    "- Este es un estilo claro y conveniente que impregna el universo de Python. \n",
    "- La instrucción <font color=#009500>**for**</font> llama a la función <font color=#009500>**iter()**</font> que está definida dentro del objeto **contenedor**.\n",
    "- La función <font color=#009500>**iter()**</font> regresa como resultado un objeto **iterador** que define el método <font color=#009500>**\\_\\_next\\_\\_()**</font> el cual puede acceder a los elementos del objeto contenedor, uno a la vez.\n",
    "- Cuando no hay más elementos, <font color=#009500>**\\_\\_next\\_\\_()**</font> lanza una excepción de tipo <font color=#950000>**StopIteration**</font> que le dice al ciclo <font color=#009500>**for**</font> que debe terminar.\n",
    "- Se puede ejecutar al método <font color=#009500>**\\_\\_next\\_\\_()**</font> usando la función de biblioteca <font color=#009500>**next()**</font>.\n",
    "\n",
    "\n",
    "**Por ejemplo**:"
   ]
  },
  {
   "cell_type": "code",
   "execution_count": 7,
   "metadata": {},
   "outputs": [
    {
     "name": "stdout",
     "output_type": "stream",
     "text": [
      "<class 'str_iterator'>\n"
     ]
    },
    {
     "data": {
      "text/plain": [
       "'z'"
      ]
     },
     "execution_count": 7,
     "metadata": {},
     "output_type": "execute_result"
    }
   ],
   "source": [
    "contenedor = 'xyz'\n",
    "iterador = iter(contenedor)\n",
    "print(type(iterador))\n",
    "next(iterador)\n",
    "next(iterador)\n",
    "next(iterador)"
   ]
  },
  {
   "cell_type": "code",
   "execution_count": 8,
   "metadata": {},
   "outputs": [
    {
     "ename": "StopIteration",
     "evalue": "",
     "output_type": "error",
     "traceback": [
      "\u001b[0;31m---------------------------------------------------------------------------\u001b[0m",
      "\u001b[0;31mStopIteration\u001b[0m                             Traceback (most recent call last)",
      "\u001b[0;32m<ipython-input-8-2389250a88e0>\u001b[0m in \u001b[0;36m<module>\u001b[0;34m\u001b[0m\n\u001b[0;32m----> 1\u001b[0;31m \u001b[0mnext\u001b[0m\u001b[0;34m(\u001b[0m\u001b[0miterador\u001b[0m\u001b[0;34m)\u001b[0m\u001b[0;34m\u001b[0m\u001b[0;34m\u001b[0m\u001b[0m\n\u001b[0m",
      "\u001b[0;31mStopIteration\u001b[0m: "
     ]
    }
   ],
   "source": [
    "next(iterador)"
   ]
  },
  {
   "cell_type": "markdown",
   "metadata": {},
   "source": [
    "#### Iterable con *list comprehension*"
   ]
  },
  {
   "cell_type": "code",
   "execution_count": 9,
   "metadata": {},
   "outputs": [
    {
     "name": "stdout",
     "output_type": "stream",
     "text": [
      "0 1 4 "
     ]
    },
    {
     "data": {
      "text/plain": [
       "list"
      ]
     },
     "execution_count": 9,
     "metadata": {},
     "output_type": "execute_result"
    }
   ],
   "source": [
    "Icuadrados = [x*x for x in range(3)]\n",
    "\n",
    "for i in Icuadrados:\n",
    "    print(i, end=' ')\n",
    "    \n",
    "type(Icuadrados)"
   ]
  },
  {
   "cell_type": "code",
   "execution_count": 10,
   "metadata": {},
   "outputs": [
    {
     "name": "stdout",
     "output_type": "stream",
     "text": [
      "0 1 4 "
     ]
    }
   ],
   "source": [
    "for i in Icuadrados:\n",
    "    print(i, end=' ')"
   ]
  },
  {
   "cell_type": "markdown",
   "metadata": {},
   "source": [
    "Estos iterables son manejables y prácticos debido a que se pueden leer tanto como se desee, pero se almacenan todos los valores en memoria y esto no siempre es coveniente, sobre todo cuando se tienen muchos valores.\n"
   ]
  },
  {
   "cell_type": "markdown",
   "metadata": {},
   "source": [
    "#### Generadores\n",
    "\n",
    "- Los objetos **generadores** son iteradores. <br>\n",
    "\n",
    "- Pero solo se puede iterar sobre ellos una vez. Esto es porque los generadores no almacenan todos los valores en memoria, ellos generan los valores al vuelo.\n",
    "\n",
    "**Por ejemplo**:"
   ]
  },
  {
   "cell_type": "code",
   "execution_count": 11,
   "metadata": {},
   "outputs": [
    {
     "name": "stdout",
     "output_type": "stream",
     "text": [
      "0 1 4 "
     ]
    },
    {
     "data": {
      "text/plain": [
       "generator"
      ]
     },
     "execution_count": 11,
     "metadata": {},
     "output_type": "execute_result"
    }
   ],
   "source": [
    "cuadradosG = (x*x for x in range(3))\n",
    "\n",
    "for i in cuadradosG:\n",
    "    print(i, end=' ')\n",
    "\n",
    "type(cuadradosG)"
   ]
  },
  {
   "cell_type": "code",
   "execution_count": 12,
   "metadata": {},
   "outputs": [],
   "source": [
    "for i in cuadradosG:    # Este ciclo no imprimirá nada por que\n",
    "    print(i, end=' ')   # el generador ya se usó antes"
   ]
  },
  {
   "cell_type": "markdown",
   "metadata": {},
   "source": [
    "Un generador solo se puede usar una vez, pues va calculando sus valores uno por uno e inmediatamente los va olvidando. En el ejemplo anterior tenemos:\n",
    "\n",
    "- genera el 0, es usado y lo olvida\n",
    "- genera el 1, es usado y lo olvida\n",
    "- genera el 4, es usado y lo olvida "
   ]
  },
  {
   "cell_type": "markdown",
   "metadata": {},
   "source": [
    "#### Yield\n",
    "\n",
    "**Descripción**.\n",
    "\n",
    "- Es una palabra clave que suspende la ejecución de una función y envía un valor de regreso a quien la ejecuta, pero retiene la información suficiente para reactivar la ejecución de la función donde se quedó. <br>\n",
    "\n",
    "- Esto permite al código producir una serie de valores uno por uno, en vez de calcularlos y regresarlos todos.\n",
    "\n",
    "**Por ejemplo**:"
   ]
  },
  {
   "cell_type": "code",
   "execution_count": 17,
   "metadata": {},
   "outputs": [
    {
     "name": "stdout",
     "output_type": "stream",
     "text": [
      "yield_1 :  1\n",
      "yield_2 :  2\n",
      "yield_3 :  3\n"
     ]
    }
   ],
   "source": [
    "def generadorSimple():\n",
    "    print('yield_1 : ', end=' ')\n",
    "    yield 1\n",
    "    print('yield_2 : ', end=' ')\n",
    "    yield 2\n",
    "    print('yield_3 : ', end=' ')\n",
    "    yield 3\n",
    "    \n",
    "for valor in generadorSimple(): \n",
    "    print(valor)"
   ]
  },
  {
   "cell_type": "markdown",
   "metadata": {},
   "source": [
    "\n",
    "- <font color=#009900>**yield**</font> es usada como un <font color=#009900>**return**</font>, excepto que la función regresa un objeto **generador**.\n",
    "- Las funciones generadoras regresan un objeto generator.\n",
    "- Los objetos generadores pueden ser usados en:\n",
    "    - un <font color=#009900>**for ... in ...**</font>\n",
    "    - ejecutando la función <font color=#009900>**\\_\\_next\\_\\_( )**</font> del generador.\n"
   ]
  },
  {
   "cell_type": "code",
   "execution_count": 18,
   "metadata": {},
   "outputs": [
    {
     "name": "stdout",
     "output_type": "stream",
     "text": [
      "<class 'generator'>\n",
      "yield_1 :  1\n",
      "yield_2 :  2\n",
      "yield_3 :  3\n"
     ]
    }
   ],
   "source": [
    "x = generadorSimple()\n",
    "print(type(x))\n",
    "print(x.__next__())\n",
    "print(x.__next__())\n",
    "print(x.__next__())"
   ]
  },
  {
   "cell_type": "code",
   "execution_count": 19,
   "metadata": {},
   "outputs": [
    {
     "ename": "StopIteration",
     "evalue": "",
     "output_type": "error",
     "traceback": [
      "\u001b[0;31m---------------------------------------------------------------------------\u001b[0m",
      "\u001b[0;31mStopIteration\u001b[0m                             Traceback (most recent call last)",
      "\u001b[0;32m<ipython-input-19-c15fe6e1370e>\u001b[0m in \u001b[0;36m<module>\u001b[0;34m\u001b[0m\n\u001b[0;32m----> 1\u001b[0;31m \u001b[0mprint\u001b[0m\u001b[0;34m(\u001b[0m\u001b[0mx\u001b[0m\u001b[0;34m.\u001b[0m\u001b[0m__next__\u001b[0m\u001b[0;34m(\u001b[0m\u001b[0;34m)\u001b[0m\u001b[0;34m)\u001b[0m\u001b[0;34m\u001b[0m\u001b[0;34m\u001b[0m\u001b[0m\n\u001b[0m",
      "\u001b[0;31mStopIteration\u001b[0m: "
     ]
    }
   ],
   "source": [
    "print(x.__next__())"
   ]
  },
  {
   "cell_type": "markdown",
   "metadata": {},
   "source": [
    "- Entonces, una función generadora regresa un objeto **generador** que es iterable, es decir, se puede usar como un **iterador**."
   ]
  },
  {
   "cell_type": "code",
   "execution_count": 20,
   "metadata": {},
   "outputs": [
    {
     "name": "stdout",
     "output_type": "stream",
     "text": [
      "<generator object construyeUnGenerador at 0x7ff2204e0120>\n",
      "<class 'generator'>\n",
      "0\n",
      "1\n",
      "4\n",
      "9\n",
      "16\n",
      "25\n",
      "36\n",
      "49\n",
      "64\n",
      "81\n"
     ]
    }
   ],
   "source": [
    "def construyeUnGenerador(v):\n",
    "    for i in range(v):       # Equivalente a: yield 0*0\n",
    "        yield i*i            #                yield 1*1\n",
    "                             #                yield 3*3\n",
    "cuadradosY = construyeUnGenerador(10) \n",
    "print(cuadradosY)\n",
    "print(type(cuadradosY))\n",
    "\n",
    "for i in cuadradosY:\n",
    "    print(i)"
   ]
  },
  {
   "cell_type": "markdown",
   "metadata": {},
   "source": [
    "- Se recomienda usar <font color=#009900>**yield**</font> cuando se desea iterar sobre una secuencia, pero no se quiere almacenar toda la secuencia en memoria. \n",
    "- Si el cuerpo de la función contiene una instrucción <font color=#009900>**yield**</font>, la función automáticamente se convierte en una función generadora."
   ]
  },
  {
   "cell_type": "markdown",
   "metadata": {},
   "source": [
    "#### Ejemplo 1.\n",
    "Crear un programa que genere los cuadrados del 1 al $\\infty$ usando <font color=#009900>**yield**</font>."
   ]
  },
  {
   "cell_type": "code",
   "execution_count": 23,
   "metadata": {},
   "outputs": [
    {
     "name": "stdout",
     "output_type": "stream",
     "text": [
      "1\n",
      "4\n",
      "9\n",
      "16\n",
      "25\n",
      "36\n",
      "49\n",
      "64\n",
      "81\n",
      "100\n"
     ]
    }
   ],
   "source": [
    "# Función generadora infinita que genera el cuadrado de un número\n",
    "def cuadradoSiguiente():\n",
    "    i = 1; \n",
    "    while True:\n",
    "        yield i*i                \n",
    "        i += 1  # La siguiente ejecución se \n",
    "                # reactiva en este punto   \n",
    "\n",
    "for numero in cuadradoSiguiente():\n",
    "    if numero > 100:\n",
    "         break   \n",
    "    print(numero)"
   ]
  },
  {
   "cell_type": "markdown",
   "metadata": {},
   "source": [
    "#### Ejemplo 2.\n",
    "Crear un generador de los números de Fibonacci."
   ]
  },
  {
   "cell_type": "code",
   "execution_count": 25,
   "metadata": {},
   "outputs": [
    {
     "name": "stdout",
     "output_type": "stream",
     "text": [
      "\n",
      "Usando la función __next()__\n",
      "0 1 1 2 3 5 8 13 21 34 55 89 \n",
      "Usando un ciclo for ... in ...\n",
      "0 1 1 2 3 5 8 13 21 34 55 89 "
     ]
    }
   ],
   "source": [
    "def fib(limite):\n",
    "    a, b = 0, 1\n",
    " \n",
    "    while a < limite:\n",
    "        yield a\n",
    "        a, b = b, a + b\n",
    "\n",
    "N = 100\n",
    "x = fib(N)\n",
    "\n",
    "print(\"\\nUsando la función __next()__\")\n",
    "\n",
    "while True:\n",
    "    try:\n",
    "        print(x.__next__(), end=' '); \n",
    "    except StopIteration:\n",
    "        break\n",
    "\n",
    "print(\"\\nUsando un ciclo for ... in ...\")\n",
    "for i in fib(N): \n",
    "    print(i, end=' ')"
   ]
  },
  {
   "cell_type": "code",
   "execution_count": null,
   "metadata": {},
   "outputs": [],
   "source": []
  }
 ],
 "metadata": {
  "kernelspec": {
   "display_name": "Python 3",
   "language": "python",
   "name": "python3"
  },
  "language_info": {
   "codemirror_mode": {
    "name": "ipython",
    "version": 3
   },
   "file_extension": ".py",
   "mimetype": "text/x-python",
   "name": "python",
   "nbconvert_exporter": "python",
   "pygments_lexer": "ipython3",
   "version": "3.8.5"
  }
 },
 "nbformat": 4,
 "nbformat_minor": 4
}
